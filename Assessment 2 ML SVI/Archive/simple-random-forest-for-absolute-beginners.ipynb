{
 "cells": [
  {
   "cell_type": "code",
   "execution_count": 1,
   "id": "666e5959",
   "metadata": {
    "_cell_guid": "b1076dfc-b9ad-4769-8c92-a6c4dae69d19",
    "_uuid": "8f2839f25d086af736a60e9eeb907d3b93b6e0e5",
    "execution": {
     "iopub.execute_input": "2023-11-26T15:24:27.193739Z",
     "iopub.status.busy": "2023-11-26T15:24:27.193356Z",
     "iopub.status.idle": "2023-11-26T15:24:27.631469Z",
     "shell.execute_reply": "2023-11-26T15:24:27.630373Z"
    },
    "papermill": {
     "duration": 0.45293,
     "end_time": "2023-11-26T15:24:27.634140",
     "exception": false,
     "start_time": "2023-11-26T15:24:27.181210",
     "status": "completed"
    },
    "tags": []
   },
   "outputs": [
    {
     "name": "stdout",
     "output_type": "stream",
     "text": [
      "/kaggle/input/salary-prediction-for-job-postings/usjobs_train.csv\n",
      "/kaggle/input/salary-prediction-for-job-postings/usjobs_sample_submission.csv\n",
      "/kaggle/input/salary-prediction-for-job-postings/usjobs_test.csv\n"
     ]
    }
   ],
   "source": [
    "# This Python 3 environment comes with many helpful analytics libraries installed\n",
    "# It is defined by the kaggle/python Docker image: https://github.com/kaggle/docker-python\n",
    "# For example, here's several helpful packages to load\n",
    "\n",
    "import numpy as np # linear algebra\n",
    "import pandas as pd # data processing, CSV file I/O (e.g. pd.read_csv)\n",
    "\n",
    "# Input data files are available in the read-only \"../input/\" directory\n",
    "# For example, running this (by clicking run or pressing Shift+Enter) will list all files under the input directory\n",
    "\n",
    "import os\n",
    "for dirname, _, filenames in os.walk('/kaggle/input'):\n",
    "    for filename in filenames:\n",
    "        print(os.path.join(dirname, filename))\n",
    "\n",
    "# You can write up to 20GB to the current directory (/kaggle/working/) that gets preserved as output when you create a version using \"Save & Run All\" \n",
    "# You can also write temporary files to /kaggle/temp/, but they won't be saved outside of the current session"
   ]
  },
  {
   "cell_type": "markdown",
   "id": "3e6c6c81",
   "metadata": {
    "papermill": {
     "duration": 0.007848,
     "end_time": "2023-11-26T15:24:27.650392",
     "exception": false,
     "start_time": "2023-11-26T15:24:27.642544",
     "status": "completed"
    },
    "tags": []
   },
   "source": [
    "## Salary Prediction for Job Postings\n",
    "\n",
    "This competition is an in-class competition for the course, \"Artificial Intelligence and Machine Learning (Fall 2023)\", in Renmin University of China.\n",
    "\n",
    "## Content\n",
    "\n",
    "- [packages](#pack)\n",
    "- [load data](#load)\n",
    "- [engineering](#engineer)\n",
    "- [model](#model)\n",
    "- [submit](#sub)"
   ]
  },
  {
   "cell_type": "markdown",
   "id": "11431575",
   "metadata": {
    "papermill": {
     "duration": 0.007835,
     "end_time": "2023-11-26T15:24:27.666682",
     "exception": false,
     "start_time": "2023-11-26T15:24:27.658847",
     "status": "completed"
    },
    "tags": []
   },
   "source": [
    "## <a id = 'pack'> Packages </a>"
   ]
  },
  {
   "cell_type": "code",
   "execution_count": 2,
   "id": "fd6d9fa4",
   "metadata": {
    "execution": {
     "iopub.execute_input": "2023-11-26T15:24:27.685168Z",
     "iopub.status.busy": "2023-11-26T15:24:27.684581Z",
     "iopub.status.idle": "2023-11-26T15:24:29.592600Z",
     "shell.execute_reply": "2023-11-26T15:24:29.591721Z"
    },
    "papermill": {
     "duration": 1.920374,
     "end_time": "2023-11-26T15:24:29.595382",
     "exception": false,
     "start_time": "2023-11-26T15:24:27.675008",
     "status": "completed"
    },
    "tags": []
   },
   "outputs": [],
   "source": [
    "import numpy as np\n",
    "import pandas as pd\n",
    "from sklearn.ensemble import RandomForestRegressor\n",
    "from sklearn.metrics import mean_squared_error, mean_absolute_error\n",
    "from sklearn.model_selection import train_test_split\n",
    "import seaborn as sns\n",
    "import matplotlib.pyplot as plt\n"
   ]
  },
  {
   "cell_type": "markdown",
   "id": "dc1a0155",
   "metadata": {
    "papermill": {
     "duration": 0.007987,
     "end_time": "2023-11-26T15:24:29.611643",
     "exception": false,
     "start_time": "2023-11-26T15:24:29.603656",
     "status": "completed"
    },
    "tags": []
   },
   "source": [
    "## <a id = 'load'> Load Data </a>"
   ]
  },
  {
   "cell_type": "code",
   "execution_count": 3,
   "id": "af992771",
   "metadata": {
    "execution": {
     "iopub.execute_input": "2023-11-26T15:24:29.630270Z",
     "iopub.status.busy": "2023-11-26T15:24:29.629838Z",
     "iopub.status.idle": "2023-11-26T15:24:30.097373Z",
     "shell.execute_reply": "2023-11-26T15:24:30.096187Z"
    },
    "papermill": {
     "duration": 0.479918,
     "end_time": "2023-11-26T15:24:30.099736",
     "exception": false,
     "start_time": "2023-11-26T15:24:29.619818",
     "status": "completed"
    },
    "tags": []
   },
   "outputs": [
    {
     "name": "stdout",
     "output_type": "stream",
     "text": [
      "(33248, 21)\n"
     ]
    },
    {
     "data": {
      "text/html": [
       "<div>\n",
       "<style scoped>\n",
       "    .dataframe tbody tr th:only-of-type {\n",
       "        vertical-align: middle;\n",
       "    }\n",
       "\n",
       "    .dataframe tbody tr th {\n",
       "        vertical-align: top;\n",
       "    }\n",
       "\n",
       "    .dataframe thead th {\n",
       "        text-align: right;\n",
       "    }\n",
       "</style>\n",
       "<table border=\"1\" class=\"dataframe\">\n",
       "  <thead>\n",
       "    <tr style=\"text-align: right;\">\n",
       "      <th></th>\n",
       "      <th>ID</th>\n",
       "      <th>Job</th>\n",
       "      <th>Jobs_Group</th>\n",
       "      <th>Profile</th>\n",
       "      <th>Remote</th>\n",
       "      <th>Company</th>\n",
       "      <th>Location</th>\n",
       "      <th>City</th>\n",
       "      <th>State</th>\n",
       "      <th>Frecuency_Salary</th>\n",
       "      <th>...</th>\n",
       "      <th>Skills</th>\n",
       "      <th>Sector</th>\n",
       "      <th>Sector_Group</th>\n",
       "      <th>Revenue</th>\n",
       "      <th>Employee</th>\n",
       "      <th>Company_Score</th>\n",
       "      <th>Reviews</th>\n",
       "      <th>Director</th>\n",
       "      <th>Director_Score</th>\n",
       "      <th>URL</th>\n",
       "    </tr>\n",
       "  </thead>\n",
       "  <tbody>\n",
       "    <tr>\n",
       "      <th>5399</th>\n",
       "      <td>job_f1b17a1e090d4400</td>\n",
       "      <td>Senior Budget Analyst</td>\n",
       "      <td>Financial Analyst</td>\n",
       "      <td>Senior</td>\n",
       "      <td>Hybrid</td>\n",
       "      <td>WellLife Network</td>\n",
       "      <td>Hempstead, NY</td>\n",
       "      <td>Hempstead</td>\n",
       "      <td>NY</td>\n",
       "      <td>year</td>\n",
       "      <td>...</td>\n",
       "      <td>[]</td>\n",
       "      <td>NGOs and Nonprofit Organizations</td>\n",
       "      <td>Nonprofit Organizations</td>\n",
       "      <td>M</td>\n",
       "      <td>XL</td>\n",
       "      <td>3.0</td>\n",
       "      <td>100.0</td>\n",
       "      <td>Sherry Tucker</td>\n",
       "      <td>0.59</td>\n",
       "      <td>http://www.welllifenetwork.org/</td>\n",
       "    </tr>\n",
       "    <tr>\n",
       "      <th>25367</th>\n",
       "      <td>job_5fcbecf6041e7b1f</td>\n",
       "      <td>Information Technology Business Analyst</td>\n",
       "      <td>Business Analyst</td>\n",
       "      <td>NaN</td>\n",
       "      <td>NaN</td>\n",
       "      <td>Craftner INC</td>\n",
       "      <td>Phoenix, NY 13135</td>\n",
       "      <td>Phoenix</td>\n",
       "      <td>NY</td>\n",
       "      <td>hour</td>\n",
       "      <td>...</td>\n",
       "      <td>['PowerPoint', 'Jira', 'Excel', 'Agile']</td>\n",
       "      <td>NaN</td>\n",
       "      <td>NaN</td>\n",
       "      <td>NaN</td>\n",
       "      <td>NaN</td>\n",
       "      <td>NaN</td>\n",
       "      <td>NaN</td>\n",
       "      <td>NaN</td>\n",
       "      <td>NaN</td>\n",
       "      <td>NaN</td>\n",
       "    </tr>\n",
       "    <tr>\n",
       "      <th>32625</th>\n",
       "      <td>job_1572bf0c4daf4008</td>\n",
       "      <td>Economist / Statistician (Economics)</td>\n",
       "      <td>Statistician/Mathemathics</td>\n",
       "      <td>NaN</td>\n",
       "      <td>NaN</td>\n",
       "      <td>US Bureau of Labor Statistics</td>\n",
       "      <td>Philadelphia, PA+1 ubicación</td>\n",
       "      <td>Philadelphia</td>\n",
       "      <td>PA</td>\n",
       "      <td>year</td>\n",
       "      <td>...</td>\n",
       "      <td>['English', 'Office', 'Bachelor']</td>\n",
       "      <td>Government and Public Administration</td>\n",
       "      <td>Government</td>\n",
       "      <td>NaN</td>\n",
       "      <td>XL</td>\n",
       "      <td>4.2</td>\n",
       "      <td>11.0</td>\n",
       "      <td>NaN</td>\n",
       "      <td>NaN</td>\n",
       "      <td>NaN</td>\n",
       "    </tr>\n",
       "  </tbody>\n",
       "</table>\n",
       "<p>3 rows × 21 columns</p>\n",
       "</div>"
      ],
      "text/plain": [
       "                         ID                                      Job  \\\n",
       "5399   job_f1b17a1e090d4400                    Senior Budget Analyst   \n",
       "25367  job_5fcbecf6041e7b1f  Information Technology Business Analyst   \n",
       "32625  job_1572bf0c4daf4008     Economist / Statistician (Economics)   \n",
       "\n",
       "                      Jobs_Group Profile  Remote  \\\n",
       "5399           Financial Analyst  Senior  Hybrid   \n",
       "25367           Business Analyst     NaN     NaN   \n",
       "32625  Statistician/Mathemathics     NaN     NaN   \n",
       "\n",
       "                             Company                      Location  \\\n",
       "5399                WellLife Network                 Hempstead, NY   \n",
       "25367                   Craftner INC             Phoenix, NY 13135   \n",
       "32625  US Bureau of Labor Statistics  Philadelphia, PA+1 ubicación   \n",
       "\n",
       "               City State Frecuency_Salary  ...  \\\n",
       "5399      Hempstead    NY             year  ...   \n",
       "25367       Phoenix    NY             hour  ...   \n",
       "32625  Philadelphia    PA             year  ...   \n",
       "\n",
       "                                         Skills  \\\n",
       "5399                                         []   \n",
       "25367  ['PowerPoint', 'Jira', 'Excel', 'Agile']   \n",
       "32625         ['English', 'Office', 'Bachelor']   \n",
       "\n",
       "                                     Sector             Sector_Group Revenue  \\\n",
       "5399       NGOs and Nonprofit Organizations  Nonprofit Organizations       M   \n",
       "25367                                   NaN                      NaN     NaN   \n",
       "32625  Government and Public Administration               Government     NaN   \n",
       "\n",
       "      Employee Company_Score  Reviews       Director Director_Score  \\\n",
       "5399        XL           3.0    100.0  Sherry Tucker           0.59   \n",
       "25367      NaN           NaN      NaN            NaN            NaN   \n",
       "32625       XL           4.2     11.0            NaN            NaN   \n",
       "\n",
       "                                   URL  \n",
       "5399   http://www.welllifenetwork.org/  \n",
       "25367                              NaN  \n",
       "32625                              NaN  \n",
       "\n",
       "[3 rows x 21 columns]"
      ]
     },
     "execution_count": 3,
     "metadata": {},
     "output_type": "execute_result"
    }
   ],
   "source": [
    "train = pd.read_csv('/kaggle/input/salary-prediction-for-job-postings/usjobs_train.csv')\n",
    "print(train.shape)\n",
    "train.sample(3)"
   ]
  },
  {
   "cell_type": "code",
   "execution_count": 4,
   "id": "2064fe75",
   "metadata": {
    "execution": {
     "iopub.execute_input": "2023-11-26T15:24:30.119381Z",
     "iopub.status.busy": "2023-11-26T15:24:30.118657Z",
     "iopub.status.idle": "2023-11-26T15:24:30.404343Z",
     "shell.execute_reply": "2023-11-26T15:24:30.403215Z"
    },
    "papermill": {
     "duration": 0.298177,
     "end_time": "2023-11-26T15:24:30.406808",
     "exception": false,
     "start_time": "2023-11-26T15:24:30.108631",
     "status": "completed"
    },
    "tags": []
   },
   "outputs": [
    {
     "name": "stdout",
     "output_type": "stream",
     "text": [
      "(22166, 20)\n"
     ]
    },
    {
     "data": {
      "text/html": [
       "<div>\n",
       "<style scoped>\n",
       "    .dataframe tbody tr th:only-of-type {\n",
       "        vertical-align: middle;\n",
       "    }\n",
       "\n",
       "    .dataframe tbody tr th {\n",
       "        vertical-align: top;\n",
       "    }\n",
       "\n",
       "    .dataframe thead th {\n",
       "        text-align: right;\n",
       "    }\n",
       "</style>\n",
       "<table border=\"1\" class=\"dataframe\">\n",
       "  <thead>\n",
       "    <tr style=\"text-align: right;\">\n",
       "      <th></th>\n",
       "      <th>ID</th>\n",
       "      <th>Job</th>\n",
       "      <th>Jobs_Group</th>\n",
       "      <th>Profile</th>\n",
       "      <th>Remote</th>\n",
       "      <th>Company</th>\n",
       "      <th>Location</th>\n",
       "      <th>City</th>\n",
       "      <th>State</th>\n",
       "      <th>Frecuency_Salary</th>\n",
       "      <th>Skills</th>\n",
       "      <th>Sector</th>\n",
       "      <th>Sector_Group</th>\n",
       "      <th>Revenue</th>\n",
       "      <th>Employee</th>\n",
       "      <th>Company_Score</th>\n",
       "      <th>Reviews</th>\n",
       "      <th>Director</th>\n",
       "      <th>Director_Score</th>\n",
       "      <th>URL</th>\n",
       "    </tr>\n",
       "  </thead>\n",
       "  <tbody>\n",
       "    <tr>\n",
       "      <th>6677</th>\n",
       "      <td>job_a77b4cd495e1de10</td>\n",
       "      <td>Associate Big Data Engineer</td>\n",
       "      <td>Data Engineer</td>\n",
       "      <td>NaN</td>\n",
       "      <td>NaN</td>\n",
       "      <td>Highmark Health</td>\n",
       "      <td>Pennsylvania+1 ubicación</td>\n",
       "      <td>NaN</td>\n",
       "      <td>PA</td>\n",
       "      <td>year</td>\n",
       "      <td>['English', 'Python', 'SQL', 'Google Cloud', '...</td>\n",
       "      <td>Healthcare</td>\n",
       "      <td>Health</td>\n",
       "      <td>XXXL</td>\n",
       "      <td>XXXL</td>\n",
       "      <td>3.2</td>\n",
       "      <td>937.0</td>\n",
       "      <td>David L. Holmberg</td>\n",
       "      <td>0.64</td>\n",
       "      <td>https://www.highmarkhealth.org/</td>\n",
       "    </tr>\n",
       "    <tr>\n",
       "      <th>6225</th>\n",
       "      <td>job_0cf79db4cf486181</td>\n",
       "      <td>Financial Analyst II</td>\n",
       "      <td>Financial Analyst</td>\n",
       "      <td>NaN</td>\n",
       "      <td>NaN</td>\n",
       "      <td>Plaxonic Technologies Inc.</td>\n",
       "      <td>Irving, TX</td>\n",
       "      <td>Irving</td>\n",
       "      <td>TX</td>\n",
       "      <td>hour</td>\n",
       "      <td>['Office', 'Bachelor']</td>\n",
       "      <td>Transportation and Logistics</td>\n",
       "      <td>Transportation and Logistics</td>\n",
       "      <td>NaN</td>\n",
       "      <td>NaN</td>\n",
       "      <td>NaN</td>\n",
       "      <td>NaN</td>\n",
       "      <td>NaN</td>\n",
       "      <td>NaN</td>\n",
       "      <td>NaN</td>\n",
       "    </tr>\n",
       "    <tr>\n",
       "      <th>6386</th>\n",
       "      <td>job_8110e9ac93139e60</td>\n",
       "      <td>OAG - Child Support | IT Business Analyst I-II...</td>\n",
       "      <td>Business Analyst</td>\n",
       "      <td>NaN</td>\n",
       "      <td>Remote</td>\n",
       "      <td>Office of the Attorney General of Texas</td>\n",
       "      <td>Austin, TX 78741 (Pleasant Valley area)</td>\n",
       "      <td>Austin</td>\n",
       "      <td>TX</td>\n",
       "      <td>month</td>\n",
       "      <td>['Office', 'Bachelor']</td>\n",
       "      <td>NaN</td>\n",
       "      <td>NaN</td>\n",
       "      <td>NaN</td>\n",
       "      <td>NaN</td>\n",
       "      <td>3.5</td>\n",
       "      <td>13.0</td>\n",
       "      <td>NaN</td>\n",
       "      <td>NaN</td>\n",
       "      <td>NaN</td>\n",
       "    </tr>\n",
       "  </tbody>\n",
       "</table>\n",
       "</div>"
      ],
      "text/plain": [
       "                        ID                                                Job  \\\n",
       "6677  job_a77b4cd495e1de10                        Associate Big Data Engineer   \n",
       "6225  job_0cf79db4cf486181                               Financial Analyst II   \n",
       "6386  job_8110e9ac93139e60  OAG - Child Support | IT Business Analyst I-II...   \n",
       "\n",
       "             Jobs_Group Profile  Remote  \\\n",
       "6677      Data Engineer     NaN     NaN   \n",
       "6225  Financial Analyst     NaN     NaN   \n",
       "6386   Business Analyst     NaN  Remote   \n",
       "\n",
       "                                      Company  \\\n",
       "6677                          Highmark Health   \n",
       "6225               Plaxonic Technologies Inc.   \n",
       "6386  Office of the Attorney General of Texas   \n",
       "\n",
       "                                     Location    City State Frecuency_Salary  \\\n",
       "6677                 Pennsylvania+1 ubicación     NaN    PA             year   \n",
       "6225                               Irving, TX  Irving    TX             hour   \n",
       "6386  Austin, TX 78741 (Pleasant Valley area)  Austin    TX            month   \n",
       "\n",
       "                                                 Skills  \\\n",
       "6677  ['English', 'Python', 'SQL', 'Google Cloud', '...   \n",
       "6225                             ['Office', 'Bachelor']   \n",
       "6386                             ['Office', 'Bachelor']   \n",
       "\n",
       "                            Sector                  Sector_Group Revenue  \\\n",
       "6677                    Healthcare                        Health    XXXL   \n",
       "6225  Transportation and Logistics  Transportation and Logistics     NaN   \n",
       "6386                           NaN                           NaN     NaN   \n",
       "\n",
       "     Employee  Company_Score  Reviews           Director  Director_Score  \\\n",
       "6677     XXXL            3.2    937.0  David L. Holmberg            0.64   \n",
       "6225      NaN            NaN      NaN                NaN             NaN   \n",
       "6386      NaN            3.5     13.0                NaN             NaN   \n",
       "\n",
       "                                  URL  \n",
       "6677  https://www.highmarkhealth.org/  \n",
       "6225                              NaN  \n",
       "6386                              NaN  "
      ]
     },
     "execution_count": 4,
     "metadata": {},
     "output_type": "execute_result"
    }
   ],
   "source": [
    "test = pd.read_csv('/kaggle/input/salary-prediction-for-job-postings/usjobs_test.csv')\n",
    "print(test.shape)\n",
    "test.sample(3)"
   ]
  },
  {
   "cell_type": "code",
   "execution_count": 5,
   "id": "3ffe749e",
   "metadata": {
    "execution": {
     "iopub.execute_input": "2023-11-26T15:24:30.427449Z",
     "iopub.status.busy": "2023-11-26T15:24:30.427010Z",
     "iopub.status.idle": "2023-11-26T15:24:30.471165Z",
     "shell.execute_reply": "2023-11-26T15:24:30.469972Z"
    },
    "papermill": {
     "duration": 0.058081,
     "end_time": "2023-11-26T15:24:30.474181",
     "exception": false,
     "start_time": "2023-11-26T15:24:30.416100",
     "status": "completed"
    },
    "tags": []
   },
   "outputs": [
    {
     "name": "stdout",
     "output_type": "stream",
     "text": [
      "(22166, 2)\n"
     ]
    },
    {
     "data": {
      "text/html": [
       "<div>\n",
       "<style scoped>\n",
       "    .dataframe tbody tr th:only-of-type {\n",
       "        vertical-align: middle;\n",
       "    }\n",
       "\n",
       "    .dataframe tbody tr th {\n",
       "        vertical-align: top;\n",
       "    }\n",
       "\n",
       "    .dataframe thead th {\n",
       "        text-align: right;\n",
       "    }\n",
       "</style>\n",
       "<table border=\"1\" class=\"dataframe\">\n",
       "  <thead>\n",
       "    <tr style=\"text-align: right;\">\n",
       "      <th></th>\n",
       "      <th>ID</th>\n",
       "      <th>Mean_Salary</th>\n",
       "    </tr>\n",
       "  </thead>\n",
       "  <tbody>\n",
       "    <tr>\n",
       "      <th>6018</th>\n",
       "      <td>job_0d3eff11444ab89d</td>\n",
       "      <td>105000</td>\n",
       "    </tr>\n",
       "    <tr>\n",
       "      <th>949</th>\n",
       "      <td>job_37660a1c31c803ed</td>\n",
       "      <td>105000</td>\n",
       "    </tr>\n",
       "    <tr>\n",
       "      <th>21122</th>\n",
       "      <td>job_113b14d2493325c0</td>\n",
       "      <td>105000</td>\n",
       "    </tr>\n",
       "  </tbody>\n",
       "</table>\n",
       "</div>"
      ],
      "text/plain": [
       "                         ID  Mean_Salary\n",
       "6018   job_0d3eff11444ab89d       105000\n",
       "949    job_37660a1c31c803ed       105000\n",
       "21122  job_113b14d2493325c0       105000"
      ]
     },
     "execution_count": 5,
     "metadata": {},
     "output_type": "execute_result"
    }
   ],
   "source": [
    "submission = pd.read_csv('/kaggle/input/salary-prediction-for-job-postings/usjobs_sample_submission.csv')\n",
    "print(submission.shape)\n",
    "submission.sample(3)"
   ]
  },
  {
   "cell_type": "markdown",
   "id": "32a5f527",
   "metadata": {
    "papermill": {
     "duration": 0.009575,
     "end_time": "2023-11-26T15:24:30.493484",
     "exception": false,
     "start_time": "2023-11-26T15:24:30.483909",
     "status": "completed"
    },
    "tags": []
   },
   "source": [
    "## <a id = 'engineer'> Engineering </a>"
   ]
  },
  {
   "cell_type": "code",
   "execution_count": 6,
   "id": "d7465e43",
   "metadata": {
    "execution": {
     "iopub.execute_input": "2023-11-26T15:24:30.515116Z",
     "iopub.status.busy": "2023-11-26T15:24:30.514670Z",
     "iopub.status.idle": "2023-11-26T15:24:30.575197Z",
     "shell.execute_reply": "2023-11-26T15:24:30.574225Z"
    },
    "papermill": {
     "duration": 0.074566,
     "end_time": "2023-11-26T15:24:30.577726",
     "exception": false,
     "start_time": "2023-11-26T15:24:30.503160",
     "status": "completed"
    },
    "tags": []
   },
   "outputs": [
    {
     "data": {
      "text/plain": [
       "ID                      0\n",
       "Job                     0\n",
       "Jobs_Group              0\n",
       "Profile             21107\n",
       "Remote              19319\n",
       "Company                 9\n",
       "Location               13\n",
       "City                 3824\n",
       "State                3112\n",
       "Frecuency_Salary        0\n",
       "Mean_Salary             0\n",
       "Skills                  0\n",
       "Sector               7214\n",
       "Sector_Group         7214\n",
       "Revenue             18318\n",
       "Employee            12799\n",
       "Company_Score        8762\n",
       "Reviews              8762\n",
       "Director            20785\n",
       "Director_Score      21924\n",
       "URL                 16033\n",
       "dtype: int64"
      ]
     },
     "execution_count": 6,
     "metadata": {},
     "output_type": "execute_result"
    }
   ],
   "source": [
    "train.isna().sum()"
   ]
  },
  {
   "cell_type": "code",
   "execution_count": 7,
   "id": "4c98996b",
   "metadata": {
    "execution": {
     "iopub.execute_input": "2023-11-26T15:24:30.599429Z",
     "iopub.status.busy": "2023-11-26T15:24:30.599027Z",
     "iopub.status.idle": "2023-11-26T15:24:30.610310Z",
     "shell.execute_reply": "2023-11-26T15:24:30.609406Z"
    },
    "papermill": {
     "duration": 0.02471,
     "end_time": "2023-11-26T15:24:30.612524",
     "exception": false,
     "start_time": "2023-11-26T15:24:30.587814",
     "status": "completed"
    },
    "tags": []
   },
   "outputs": [],
   "source": [
    "def rearrange_dataset(train_data, test_data):\n",
    "    #1.train \n",
    "    skills_list = []\n",
    "    for i in range(len(train_data)):\n",
    "        zip_list = train_data['Skills'][i].replace('[','').replace(']','').replace(\"'\",'').replace(\" \",'').split(',')\n",
    "        dict_temp = {}\n",
    "        str_ = ''\n",
    "        for j in range(len(zip_list)):\n",
    "            dict_temp[zip_list[j]] = 1\n",
    "            str_ += zip_list[j] + \" \"\n",
    "        dict_temp['skills_clean'] = str_    \n",
    "        skills_list.append(dict_temp)\n",
    "        \n",
    "    train_data = pd.concat([train_data,pd.DataFrame(skills_list).fillna(0)],axis =1)  \n",
    "    \n",
    "    \n",
    "    #2.test\n",
    "    skills_list = []\n",
    "    for i in range(len(test_data)):\n",
    "        zip_list = test_data['Skills'][i].replace('[','').replace(']','').replace(\"'\",'').replace(\" \",'').split(',')\n",
    "        dict_temp = {}\n",
    "        str_ = ''\n",
    "        for j in range(len(zip_list)):\n",
    "            dict_temp[zip_list[j]] = 1\n",
    "            str_ += zip_list[j] + \" \"\n",
    "        dict_temp['skills_clean'] = str_        \n",
    "        skills_list.append(dict_temp)\n",
    "        \n",
    "    test_data = pd.concat([test_data,pd.DataFrame(skills_list).fillna(0)],axis =1)      \n",
    "    \n",
    "    return train_data, test_data"
   ]
  },
  {
   "cell_type": "code",
   "execution_count": 8,
   "id": "92d890be",
   "metadata": {
    "execution": {
     "iopub.execute_input": "2023-11-26T15:24:30.634410Z",
     "iopub.status.busy": "2023-11-26T15:24:30.633634Z",
     "iopub.status.idle": "2023-11-26T15:24:33.134216Z",
     "shell.execute_reply": "2023-11-26T15:24:33.132939Z"
    },
    "papermill": {
     "duration": 2.514424,
     "end_time": "2023-11-26T15:24:33.136886",
     "exception": false,
     "start_time": "2023-11-26T15:24:30.622462",
     "status": "completed"
    },
    "tags": []
   },
   "outputs": [
    {
     "name": "stdout",
     "output_type": "stream",
     "text": [
      "CPU times: user 2.41 s, sys: 105 ms, total: 2.51 s\n",
      "Wall time: 2.49 s\n"
     ]
    }
   ],
   "source": [
    "%%time\n",
    "train_data1, test_data1 = rearrange_dataset(train_data= train, test_data= test)"
   ]
  },
  {
   "cell_type": "code",
   "execution_count": 9,
   "id": "66a6eed0",
   "metadata": {
    "execution": {
     "iopub.execute_input": "2023-11-26T15:24:33.158537Z",
     "iopub.status.busy": "2023-11-26T15:24:33.158075Z",
     "iopub.status.idle": "2023-11-26T15:24:33.195116Z",
     "shell.execute_reply": "2023-11-26T15:24:33.193930Z"
    },
    "papermill": {
     "duration": 0.051195,
     "end_time": "2023-11-26T15:24:33.197840",
     "exception": false,
     "start_time": "2023-11-26T15:24:33.146645",
     "status": "completed"
    },
    "tags": []
   },
   "outputs": [
    {
     "data": {
      "text/plain": [
       "Job                           0\n",
       "Company                       9\n",
       "skills_clean                  0\n",
       "ArtificialIntelligence        0\n",
       "MachineLearning               0\n",
       "Python                        0\n",
       "TensorFlow                    0\n",
       "Excel                         0\n",
       "Spark                         0\n",
       "PhD                           0\n",
       "AWS                           0\n",
       "C++                           0\n",
       "DeepLearning                  0\n",
       "Java                          0\n",
       "Master                        0\n",
       "Office                        0\n",
       "Docker                        0\n",
       "Word                          0\n",
       "Azure                         0\n",
       "Hadoop                        0\n",
       "Airflow                       0\n",
       "MBA                           0\n",
       "CPA                           0\n",
       "Director_Score            21924\n",
       "Snowflake                     0\n",
       "Databricks                    0\n",
       "SQL                           0\n",
       "                              0\n",
       "Company_Score              8762\n",
       "GoogleCloud                   0\n",
       "SciKit                        0\n",
       "Reviews                    8762\n",
       "Pandas                        0\n",
       "ChatGPT                       0\n",
       "Agile                         0\n",
       "R                             0\n",
       "NeuralNetwork                 0\n",
       "Jupyter                       0\n",
       "PowerPoint                    0\n",
       "Spanish                       0\n",
       "NumPy                         0\n",
       "React                         0\n",
       "GitHub                        0\n",
       "Looker                        0\n",
       "English                       0\n",
       "Access                        0\n",
       "Matplotlib                    0\n",
       "Seaborn                       0\n",
       "C#                            0\n",
       "Rust                          0\n",
       "VBA                           0\n",
       "Bachelor                      0\n",
       "dtype: int64"
      ]
     },
     "execution_count": 9,
     "metadata": {},
     "output_type": "execute_result"
    }
   ],
   "source": [
    "train_data1[['Job','Company','skills_clean','ArtificialIntelligence', 'MachineLearning', 'Python', 'TensorFlow',\n",
    "       'Excel', 'Spark', 'PhD', 'AWS', 'C++', 'DeepLearning', 'Java', 'Master',\n",
    "       'Office', 'Docker', 'Word', 'Azure', 'Hadoop', 'Airflow', 'MBA', 'CPA',\n",
    "       'Director_Score', 'Snowflake', 'Databricks', 'SQL', '', 'Company_Score',\n",
    "       'GoogleCloud', 'SciKit', 'Reviews', 'Pandas', 'ChatGPT', 'Agile', 'R',\n",
    "       'NeuralNetwork', 'Jupyter', 'PowerPoint', 'Spanish', 'NumPy', 'React',\n",
    "       'GitHub', 'Looker', 'English', 'Access', 'Matplotlib', 'Seaborn', 'C#',\n",
    "       'Rust', 'VBA', 'Bachelor']].isna().sum()"
   ]
  },
  {
   "cell_type": "code",
   "execution_count": 10,
   "id": "30492c22",
   "metadata": {
    "execution": {
     "iopub.execute_input": "2023-11-26T15:24:33.219919Z",
     "iopub.status.busy": "2023-11-26T15:24:33.219449Z",
     "iopub.status.idle": "2023-11-26T15:24:33.229574Z",
     "shell.execute_reply": "2023-11-26T15:24:33.228569Z"
    },
    "papermill": {
     "duration": 0.024306,
     "end_time": "2023-11-26T15:24:33.232314",
     "exception": false,
     "start_time": "2023-11-26T15:24:33.208008",
     "status": "completed"
    },
    "tags": []
   },
   "outputs": [],
   "source": [
    "train_data1['Director_Score'].fillna(np.mean(train_data1['Director_Score']), inplace= True)\n",
    "train_data1['Company_Score'].fillna(np.mean(train_data1['Company_Score']), inplace= True)\n",
    "train_data1['Reviews'].fillna(np.mean(train_data1['Reviews']), inplace= True)"
   ]
  },
  {
   "cell_type": "markdown",
   "id": "074e8223",
   "metadata": {
    "papermill": {
     "duration": 0.009759,
     "end_time": "2023-11-26T15:24:33.252223",
     "exception": false,
     "start_time": "2023-11-26T15:24:33.242464",
     "status": "completed"
    },
    "tags": []
   },
   "source": [
    "## <a id = 'model'> Model </a>"
   ]
  },
  {
   "cell_type": "code",
   "execution_count": 11,
   "id": "a716aa2f",
   "metadata": {
    "execution": {
     "iopub.execute_input": "2023-11-26T15:24:33.277504Z",
     "iopub.status.busy": "2023-11-26T15:24:33.277058Z",
     "iopub.status.idle": "2023-11-26T15:24:33.301864Z",
     "shell.execute_reply": "2023-11-26T15:24:33.300435Z"
    },
    "papermill": {
     "duration": 0.0419,
     "end_time": "2023-11-26T15:24:33.304858",
     "exception": false,
     "start_time": "2023-11-26T15:24:33.262958",
     "status": "completed"
    },
    "tags": []
   },
   "outputs": [],
   "source": [
    "X_train, X_test, y_train, y_test = train_test_split(train_data1[['ArtificialIntelligence', 'MachineLearning', 'Python', 'TensorFlow',\n",
    "       'Excel', 'Spark', 'PhD', 'AWS', 'C++', 'DeepLearning', 'Java', 'Master',\n",
    "       'Office', 'Docker', 'Word', 'Azure', 'Hadoop', 'Airflow', 'MBA', 'CPA',\n",
    "       'Director_Score', 'Snowflake', 'Databricks', 'SQL', '', 'Company_Score',\n",
    "       'GoogleCloud', 'SciKit', 'Reviews']],\n",
    "                                                   train_data1['Mean_Salary'],\n",
    "                                                   test_size = 0.2)"
   ]
  },
  {
   "cell_type": "code",
   "execution_count": 12,
   "id": "367f63a4",
   "metadata": {
    "execution": {
     "iopub.execute_input": "2023-11-26T15:24:33.336676Z",
     "iopub.status.busy": "2023-11-26T15:24:33.335516Z",
     "iopub.status.idle": "2023-11-26T15:24:43.755126Z",
     "shell.execute_reply": "2023-11-26T15:24:43.754020Z"
    },
    "papermill": {
     "duration": 10.437607,
     "end_time": "2023-11-26T15:24:43.757888",
     "exception": false,
     "start_time": "2023-11-26T15:24:33.320281",
     "status": "completed"
    },
    "tags": []
   },
   "outputs": [
    {
     "data": {
      "text/html": [
       "<style>#sk-container-id-1 {color: black;background-color: white;}#sk-container-id-1 pre{padding: 0;}#sk-container-id-1 div.sk-toggleable {background-color: white;}#sk-container-id-1 label.sk-toggleable__label {cursor: pointer;display: block;width: 100%;margin-bottom: 0;padding: 0.3em;box-sizing: border-box;text-align: center;}#sk-container-id-1 label.sk-toggleable__label-arrow:before {content: \"▸\";float: left;margin-right: 0.25em;color: #696969;}#sk-container-id-1 label.sk-toggleable__label-arrow:hover:before {color: black;}#sk-container-id-1 div.sk-estimator:hover label.sk-toggleable__label-arrow:before {color: black;}#sk-container-id-1 div.sk-toggleable__content {max-height: 0;max-width: 0;overflow: hidden;text-align: left;background-color: #f0f8ff;}#sk-container-id-1 div.sk-toggleable__content pre {margin: 0.2em;color: black;border-radius: 0.25em;background-color: #f0f8ff;}#sk-container-id-1 input.sk-toggleable__control:checked~div.sk-toggleable__content {max-height: 200px;max-width: 100%;overflow: auto;}#sk-container-id-1 input.sk-toggleable__control:checked~label.sk-toggleable__label-arrow:before {content: \"▾\";}#sk-container-id-1 div.sk-estimator input.sk-toggleable__control:checked~label.sk-toggleable__label {background-color: #d4ebff;}#sk-container-id-1 div.sk-label input.sk-toggleable__control:checked~label.sk-toggleable__label {background-color: #d4ebff;}#sk-container-id-1 input.sk-hidden--visually {border: 0;clip: rect(1px 1px 1px 1px);clip: rect(1px, 1px, 1px, 1px);height: 1px;margin: -1px;overflow: hidden;padding: 0;position: absolute;width: 1px;}#sk-container-id-1 div.sk-estimator {font-family: monospace;background-color: #f0f8ff;border: 1px dotted black;border-radius: 0.25em;box-sizing: border-box;margin-bottom: 0.5em;}#sk-container-id-1 div.sk-estimator:hover {background-color: #d4ebff;}#sk-container-id-1 div.sk-parallel-item::after {content: \"\";width: 100%;border-bottom: 1px solid gray;flex-grow: 1;}#sk-container-id-1 div.sk-label:hover label.sk-toggleable__label {background-color: #d4ebff;}#sk-container-id-1 div.sk-serial::before {content: \"\";position: absolute;border-left: 1px solid gray;box-sizing: border-box;top: 0;bottom: 0;left: 50%;z-index: 0;}#sk-container-id-1 div.sk-serial {display: flex;flex-direction: column;align-items: center;background-color: white;padding-right: 0.2em;padding-left: 0.2em;position: relative;}#sk-container-id-1 div.sk-item {position: relative;z-index: 1;}#sk-container-id-1 div.sk-parallel {display: flex;align-items: stretch;justify-content: center;background-color: white;position: relative;}#sk-container-id-1 div.sk-item::before, #sk-container-id-1 div.sk-parallel-item::before {content: \"\";position: absolute;border-left: 1px solid gray;box-sizing: border-box;top: 0;bottom: 0;left: 50%;z-index: -1;}#sk-container-id-1 div.sk-parallel-item {display: flex;flex-direction: column;z-index: 1;position: relative;background-color: white;}#sk-container-id-1 div.sk-parallel-item:first-child::after {align-self: flex-end;width: 50%;}#sk-container-id-1 div.sk-parallel-item:last-child::after {align-self: flex-start;width: 50%;}#sk-container-id-1 div.sk-parallel-item:only-child::after {width: 0;}#sk-container-id-1 div.sk-dashed-wrapped {border: 1px dashed gray;margin: 0 0.4em 0.5em 0.4em;box-sizing: border-box;padding-bottom: 0.4em;background-color: white;}#sk-container-id-1 div.sk-label label {font-family: monospace;font-weight: bold;display: inline-block;line-height: 1.2em;}#sk-container-id-1 div.sk-label-container {text-align: center;}#sk-container-id-1 div.sk-container {/* jupyter's `normalize.less` sets `[hidden] { display: none; }` but bootstrap.min.css set `[hidden] { display: none !important; }` so we also need the `!important` here to be able to override the default hidden behavior on the sphinx rendered scikit-learn.org. See: https://github.com/scikit-learn/scikit-learn/issues/21755 */display: inline-block !important;position: relative;}#sk-container-id-1 div.sk-text-repr-fallback {display: none;}</style><div id=\"sk-container-id-1\" class=\"sk-top-container\"><div class=\"sk-text-repr-fallback\"><pre>RandomForestRegressor(max_depth=30, min_samples_leaf=25, n_estimators=500,\n",
       "                      n_jobs=5)</pre><b>In a Jupyter environment, please rerun this cell to show the HTML representation or trust the notebook. <br />On GitHub, the HTML representation is unable to render, please try loading this page with nbviewer.org.</b></div><div class=\"sk-container\" hidden><div class=\"sk-item\"><div class=\"sk-estimator sk-toggleable\"><input class=\"sk-toggleable__control sk-hidden--visually\" id=\"sk-estimator-id-1\" type=\"checkbox\" checked><label for=\"sk-estimator-id-1\" class=\"sk-toggleable__label sk-toggleable__label-arrow\">RandomForestRegressor</label><div class=\"sk-toggleable__content\"><pre>RandomForestRegressor(max_depth=30, min_samples_leaf=25, n_estimators=500,\n",
       "                      n_jobs=5)</pre></div></div></div></div></div>"
      ],
      "text/plain": [
       "RandomForestRegressor(max_depth=30, min_samples_leaf=25, n_estimators=500,\n",
       "                      n_jobs=5)"
      ]
     },
     "execution_count": 12,
     "metadata": {},
     "output_type": "execute_result"
    }
   ],
   "source": [
    "clf = RandomForestRegressor(n_estimators= 500,\n",
    "                            max_depth = 30,\n",
    "                            min_samples_leaf = 25,\n",
    "                           n_jobs= 5)\n",
    "\n",
    "clf.fit(X_train,\n",
    "       y_train)"
   ]
  },
  {
   "cell_type": "code",
   "execution_count": 13,
   "id": "f5e5702e",
   "metadata": {
    "execution": {
     "iopub.execute_input": "2023-11-26T15:24:43.781070Z",
     "iopub.status.busy": "2023-11-26T15:24:43.780479Z",
     "iopub.status.idle": "2023-11-26T15:24:44.066206Z",
     "shell.execute_reply": "2023-11-26T15:24:44.065067Z"
    },
    "papermill": {
     "duration": 0.300536,
     "end_time": "2023-11-26T15:24:44.069052",
     "exception": false,
     "start_time": "2023-11-26T15:24:43.768516",
     "status": "completed"
    },
    "tags": []
   },
   "outputs": [
    {
     "data": {
      "text/plain": [
       "27037.521890453256"
      ]
     },
     "execution_count": 13,
     "metadata": {},
     "output_type": "execute_result"
    }
   ],
   "source": [
    "mean_absolute_error(y_test,clf.predict(X_test))"
   ]
  },
  {
   "cell_type": "markdown",
   "id": "87995641",
   "metadata": {
    "papermill": {
     "duration": 0.011088,
     "end_time": "2023-11-26T15:24:44.093042",
     "exception": false,
     "start_time": "2023-11-26T15:24:44.081954",
     "status": "completed"
    },
    "tags": []
   },
   "source": [
    "## <a id = 'sub'> Submission </a>"
   ]
  },
  {
   "cell_type": "code",
   "execution_count": 14,
   "id": "3641390d",
   "metadata": {
    "execution": {
     "iopub.execute_input": "2023-11-26T15:24:44.121023Z",
     "iopub.status.busy": "2023-11-26T15:24:44.120374Z",
     "iopub.status.idle": "2023-11-26T15:24:44.130290Z",
     "shell.execute_reply": "2023-11-26T15:24:44.129441Z"
    },
    "papermill": {
     "duration": 0.02784,
     "end_time": "2023-11-26T15:24:44.132606",
     "exception": false,
     "start_time": "2023-11-26T15:24:44.104766",
     "status": "completed"
    },
    "tags": []
   },
   "outputs": [],
   "source": [
    "test_data1['Director_Score'].fillna(np.mean(train_data1['Director_Score']), inplace= True)\n",
    "test_data1['Company_Score'].fillna(np.mean(train_data1['Company_Score']), inplace= True)\n",
    "test_data1['Reviews'].fillna(np.mean(train_data1['Reviews']), inplace= True)"
   ]
  },
  {
   "cell_type": "code",
   "execution_count": 15,
   "id": "aa60b112",
   "metadata": {
    "execution": {
     "iopub.execute_input": "2023-11-26T15:24:44.164150Z",
     "iopub.status.busy": "2023-11-26T15:24:44.163629Z",
     "iopub.status.idle": "2023-11-26T15:24:44.173148Z",
     "shell.execute_reply": "2023-11-26T15:24:44.172193Z"
    },
    "papermill": {
     "duration": 0.032889,
     "end_time": "2023-11-26T15:24:44.176050",
     "exception": false,
     "start_time": "2023-11-26T15:24:44.143161",
     "status": "completed"
    },
    "tags": []
   },
   "outputs": [],
   "source": [
    "test_df = test_data1[['ID','ArtificialIntelligence', 'MachineLearning', 'Python', 'TensorFlow',\n",
    "       'Excel', 'Spark', 'PhD', 'AWS', 'C++', 'DeepLearning', 'Java', 'Master',\n",
    "       'Office', 'Docker', 'Word', 'Azure', 'Hadoop', 'Airflow', 'MBA', 'CPA',\n",
    "       'Director_Score', 'Snowflake', 'Databricks', 'SQL', '', 'Company_Score',\n",
    "       'GoogleCloud', 'SciKit', 'Reviews']]"
   ]
  },
  {
   "cell_type": "code",
   "execution_count": 16,
   "id": "f419d1b8",
   "metadata": {
    "execution": {
     "iopub.execute_input": "2023-11-26T15:24:44.206077Z",
     "iopub.status.busy": "2023-11-26T15:24:44.205051Z",
     "iopub.status.idle": "2023-11-26T15:24:44.972720Z",
     "shell.execute_reply": "2023-11-26T15:24:44.971833Z"
    },
    "papermill": {
     "duration": 0.785118,
     "end_time": "2023-11-26T15:24:44.976031",
     "exception": false,
     "start_time": "2023-11-26T15:24:44.190913",
     "status": "completed"
    },
    "tags": []
   },
   "outputs": [],
   "source": [
    "pred = clf.predict(test_df.drop('ID', axis = 1))"
   ]
  },
  {
   "cell_type": "code",
   "execution_count": 17,
   "id": "b48c28bc",
   "metadata": {
    "execution": {
     "iopub.execute_input": "2023-11-26T15:24:45.007146Z",
     "iopub.status.busy": "2023-11-26T15:24:45.006716Z",
     "iopub.status.idle": "2023-11-26T15:24:45.013935Z",
     "shell.execute_reply": "2023-11-26T15:24:45.012584Z"
    },
    "papermill": {
     "duration": 0.025652,
     "end_time": "2023-11-26T15:24:45.016530",
     "exception": false,
     "start_time": "2023-11-26T15:24:44.990878",
     "status": "completed"
    },
    "tags": []
   },
   "outputs": [
    {
     "name": "stderr",
     "output_type": "stream",
     "text": [
      "/tmp/ipykernel_19/1862751176.py:1: SettingWithCopyWarning: \n",
      "A value is trying to be set on a copy of a slice from a DataFrame.\n",
      "Try using .loc[row_indexer,col_indexer] = value instead\n",
      "\n",
      "See the caveats in the documentation: https://pandas.pydata.org/pandas-docs/stable/user_guide/indexing.html#returning-a-view-versus-a-copy\n",
      "  test_df['Mean_Salary'] = pred\n"
     ]
    }
   ],
   "source": [
    "test_df['Mean_Salary'] = pred"
   ]
  },
  {
   "cell_type": "code",
   "execution_count": 18,
   "id": "8a301e05",
   "metadata": {
    "execution": {
     "iopub.execute_input": "2023-11-26T15:24:45.039973Z",
     "iopub.status.busy": "2023-11-26T15:24:45.039037Z",
     "iopub.status.idle": "2023-11-26T15:24:45.157633Z",
     "shell.execute_reply": "2023-11-26T15:24:45.156770Z"
    },
    "papermill": {
     "duration": 0.133285,
     "end_time": "2023-11-26T15:24:45.160510",
     "exception": false,
     "start_time": "2023-11-26T15:24:45.027225",
     "status": "completed"
    },
    "tags": []
   },
   "outputs": [],
   "source": [
    "test_df[['ID','Mean_Salary']].to_csv('submission.csv', index = False)"
   ]
  },
  {
   "cell_type": "code",
   "execution_count": null,
   "id": "92d51e03",
   "metadata": {
    "papermill": {
     "duration": 0.010283,
     "end_time": "2023-11-26T15:24:45.181928",
     "exception": false,
     "start_time": "2023-11-26T15:24:45.171645",
     "status": "completed"
    },
    "tags": []
   },
   "outputs": [],
   "source": []
  }
 ],
 "metadata": {
  "kaggle": {
   "accelerator": "none",
   "dataSources": [
    {
     "databundleVersionId": 7007639,
     "sourceId": 63966,
     "sourceType": "competition"
    }
   ],
   "dockerImageVersionId": 30587,
   "isGpuEnabled": false,
   "isInternetEnabled": true,
   "language": "python",
   "sourceType": "notebook"
  },
  "kernelspec": {
   "display_name": "Python 3",
   "language": "python",
   "name": "python3"
  },
  "language_info": {
   "codemirror_mode": {
    "name": "ipython",
    "version": 3
   },
   "file_extension": ".py",
   "mimetype": "text/x-python",
   "name": "python",
   "nbconvert_exporter": "python",
   "pygments_lexer": "ipython3",
   "version": "3.10.12"
  },
  "papermill": {
   "default_parameters": {},
   "duration": 22.228435,
   "end_time": "2023-11-26T15:24:45.913951",
   "environment_variables": {},
   "exception": null,
   "input_path": "__notebook__.ipynb",
   "output_path": "__notebook__.ipynb",
   "parameters": {},
   "start_time": "2023-11-26T15:24:23.685516",
   "version": "2.4.0"
  }
 },
 "nbformat": 4,
 "nbformat_minor": 5
}
