{
 "cells": [
  {
   "cell_type": "markdown",
   "metadata": {},
   "source": [
    "Exploratory Data Analysis"
   ]
  },
  {
   "cell_type": "markdown",
   "metadata": {},
   "source": [
    "# Import Libraries"
   ]
  },
  {
   "cell_type": "code",
   "execution_count": 1,
   "metadata": {},
   "outputs": [],
   "source": [
    "import pandas as pd\n",
    "import matplotlib.pyplot as plt\n",
    "import seaborn as sns\n",
    "import numpy as np\n",
    "from sklearn.model_selection import train_test_split\n",
    "from sklearn.impute import SimpleImputer\n",
    "from sklearn.preprocessing import OneHotEncoder, StandardScaler"
   ]
  },
  {
   "cell_type": "markdown",
   "metadata": {},
   "source": [
    "# 1. Load the Dataset"
   ]
  },
  {
   "cell_type": "code",
   "execution_count": 2,
   "metadata": {},
   "outputs": [],
   "source": [
    "data = pd.read_csv('usjobs_train.csv')"
   ]
  },
  {
   "cell_type": "code",
   "execution_count": 3,
   "metadata": {},
   "outputs": [
    {
     "name": "stdout",
     "output_type": "stream",
     "text": [
      "Dataset Overview:\n",
      "                     ID                                                Job  \\\n",
      "0  job_f2c807527f687b96  Part-time Reporting Business Analyst, Data & A...   \n",
      "1  job_2660d4c53505af10                                         Controller   \n",
      "2   sj_50358c44328ae06a                                 Sr Finance Analyst   \n",
      "3  job_a087fd700e3e85f0               Senior Business Intelligence Analyst   \n",
      "4  job_d2a2538a2c4d2033  Data Center Operations Analyst (Temporary Assi...   \n",
      "\n",
      "              Jobs_Group Profile  Remote  \\\n",
      "0      Financial Analyst     NaN  Remote   \n",
      "1             Controller     NaN     NaN   \n",
      "2      Financial Analyst  Senior     NaN   \n",
      "3  Business Intelligence  Senior  Hybrid   \n",
      "4     Operations Analyst     NaN  Remote   \n",
      "\n",
      "                                  Company  \\\n",
      "0           Sandy Hook Promise Foundation   \n",
      "1     Building Service 32BJ Benefit Funds   \n",
      "2                                     LCS   \n",
      "3        Federal Reserve Bank of Richmond   \n",
      "4  Los Angeles County Office of Education   \n",
      "\n",
      "                                   Location      City State Frecuency_Salary  \\\n",
      "0                                    Remote       NaN   NaN             hour   \n",
      "1         New York, NY 10013 (Tribeca area)  New York    NY             year   \n",
      "2                                       NaN       NaN   NaN             year   \n",
      "3  Richmond, VA 23219 (Central Office area)  Richmond    VA             year   \n",
      "4              Downey, CA 90242+1 ubicación    Downey    CA             hour   \n",
      "\n",
      "   ...                                             Skills  \\\n",
      "0  ...                         ['Salesforce', 'Bachelor']   \n",
      "1  ...  ['SQL', 'Master', 'Dynamics 365', 'Snowflake',...   \n",
      "2  ...                      ['Word', 'Bachelor', 'Excel']   \n",
      "3  ...  ['PowerPoint', 'Power BI', 'Tableau', 'Word', ...   \n",
      "4  ...                                         ['Office']   \n",
      "\n",
      "                             Sector             Sector_Group Revenue Employee  \\\n",
      "0  NGOs and Nonprofit Organizations  Nonprofit Organizations     NaN       XS   \n",
      "1  NGOs and Nonprofit Organizations  Nonprofit Organizations     NaN        M   \n",
      "2        Personal Consumer Services                    Sales    XXXS     XXXS   \n",
      "3       Banking and Credit Services                  Finance     XXL       XL   \n",
      "4       State and Regional Agencies               Government     NaN       XL   \n",
      "\n",
      "  Company_Score  Reviews                              Director Director_Score  \\\n",
      "0           4.2     20.0                                   NaN            NaN   \n",
      "1           3.5     58.0  Peter Goldberger, Executive Director           0.70   \n",
      "2           3.4     88.0                                   NaN            NaN   \n",
      "3           3.8     30.0                            Tom Barkin           0.70   \n",
      "4           4.2    186.0                          Debra Duardo           0.85   \n",
      "\n",
      "                                 URL  \n",
      "0  https://www.sandyhookpromise.org/  \n",
      "1                                NaN  \n",
      "2                                NaN  \n",
      "3       https://www.richmondfed.org/  \n",
      "4                                NaN  \n",
      "\n",
      "[5 rows x 21 columns]\n"
     ]
    }
   ],
   "source": [
    "# Display dataset structure and basic information\n",
    "print(\"Dataset Overview:\")\n",
    "print(data.head())"
   ]
  },
  {
   "cell_type": "markdown",
   "metadata": {},
   "source": []
  },
  {
   "cell_type": "code",
   "execution_count": 4,
   "metadata": {},
   "outputs": [
    {
     "name": "stdout",
     "output_type": "stream",
     "text": [
      "\n",
      "Dataset Info:\n",
      "<class 'pandas.core.frame.DataFrame'>\n",
      "RangeIndex: 33248 entries, 0 to 33247\n",
      "Data columns (total 21 columns):\n",
      " #   Column            Non-Null Count  Dtype  \n",
      "---  ------            --------------  -----  \n",
      " 0   ID                33248 non-null  object \n",
      " 1   Job               33248 non-null  object \n",
      " 2   Jobs_Group        33248 non-null  object \n",
      " 3   Profile           12141 non-null  object \n",
      " 4   Remote            13929 non-null  object \n",
      " 5   Company           33239 non-null  object \n",
      " 6   Location          33235 non-null  object \n",
      " 7   City              29424 non-null  object \n",
      " 8   State             30136 non-null  object \n",
      " 9   Frecuency_Salary  33248 non-null  object \n",
      " 10  Mean_Salary       33248 non-null  float64\n",
      " 11  Skills            33248 non-null  object \n",
      " 12  Sector            26034 non-null  object \n",
      " 13  Sector_Group      26034 non-null  object \n",
      " 14  Revenue           14930 non-null  object \n",
      " 15  Employee          20449 non-null  object \n",
      " 16  Company_Score     24486 non-null  float64\n",
      " 17  Reviews           24486 non-null  float64\n",
      " 18  Director          12463 non-null  object \n",
      " 19  Director_Score    11324 non-null  float64\n",
      " 20  URL               17215 non-null  object \n",
      "dtypes: float64(4), object(17)\n",
      "memory usage: 5.3+ MB\n",
      "None\n"
     ]
    }
   ],
   "source": [
    "print(\"\\nDataset Info:\")\n",
    "print(data.info())"
   ]
  },
  {
   "cell_type": "markdown",
   "metadata": {},
   "source": [
    "# 2. Exploratory Data Analysis (EDA)"
   ]
  },
  {
   "cell_type": "code",
   "execution_count": 5,
   "metadata": {},
   "outputs": [
    {
     "name": "stdout",
     "output_type": "stream",
     "text": [
      "\n",
      "Statistical Summary:\n",
      "         Mean_Salary  Company_Score        Reviews  Director_Score\n",
      "count   33248.000000   24486.000000   24486.000000    11324.000000\n",
      "mean   104938.652004       3.659287    2724.875398        0.748707\n",
      "std     43891.461738       0.629555   13336.396863        0.110831\n",
      "min      9200.000000       1.000000       1.000000        0.060000\n",
      "25%     75000.000000       3.400000      13.000000        0.680000\n",
      "50%     96600.000000       3.700000     117.000000        0.780000\n",
      "75%    125000.000000       4.000000     960.000000        0.830000\n",
      "max    585000.000000       5.000000  247915.000000        1.000000\n"
     ]
    }
   ],
   "source": [
    "# Basic statistical summary of numerical features\n",
    "print(\"\\nStatistical Summary:\")\n",
    "print(data.describe())"
   ]
  },
  {
   "cell_type": "code",
   "execution_count": 6,
   "metadata": {},
   "outputs": [
    {
     "data": {
      "image/png": "[encoded data removed]",
      "text/plain": [
       "<Figure size 1000x600 with 1 Axes>"
      ]
     },
     "metadata": {},
     "output_type": "display_data"
    }
   ],
   "source": [
    "# Visualizing target variable (salary)\n",
    "plt.figure(figsize=(10, 6))\n",
    "sns.histplot(data['Mean_Salary'], kde=True, bins=30)\n",
    "plt.title('Distribution of Salary')\n",
    "plt.xlabel('Salary')\n",
    "plt.ylabel('Frequency')\n",
    "plt.show()"
   ]
  },
  {
   "cell_type": "code",
   "execution_count": 7,
   "metadata": {},
   "outputs": [
    {
     "name": "stdout",
     "output_type": "stream",
     "text": [
      "\n",
      "Missing Values:\n",
      "ID                      0\n",
      "Job                     0\n",
      "Jobs_Group              0\n",
      "Profile             21107\n",
      "Remote              19319\n",
      "Company                 9\n",
      "Location               13\n",
      "City                 3824\n",
      "State                3112\n",
      "Frecuency_Salary        0\n",
      "Mean_Salary             0\n",
      "Skills                  0\n",
      "Sector               7214\n",
      "Sector_Group         7214\n",
      "Revenue             18318\n",
      "Employee            12799\n",
      "Company_Score        8762\n",
      "Reviews              8762\n",
      "Director            20785\n",
      "Director_Score      21924\n",
      "URL                 16033\n",
      "dtype: int64\n"
     ]
    }
   ],
   "source": [
    "# Identify all columns and missing values\n",
    "print(\"\\nMissing Values:\")\n",
    "print(data.isnull().sum())"
   ]
  },
  {
   "cell_type": "code",
   "execution_count": 8,
   "metadata": {},
   "outputs": [
    {
     "name": "stdout",
     "output_type": "stream",
     "text": [
      "\n",
      "Columns with Missing Values:\n",
      "Profile           21107\n",
      "Remote            19319\n",
      "Company               9\n",
      "Location             13\n",
      "City               3824\n",
      "State              3112\n",
      "Sector             7214\n",
      "Sector_Group       7214\n",
      "Revenue           18318\n",
      "Employee          12799\n",
      "Company_Score      8762\n",
      "Reviews            8762\n",
      "Director          20785\n",
      "Director_Score    21924\n",
      "URL               16033\n",
      "dtype: int64\n"
     ]
    }
   ],
   "source": [
    "# Identify only columns with missing values\n",
    "missing_data = data.isnull().sum()\n",
    "print(\"\\nColumns with Missing Values:\")\n",
    "print(missing_data[missing_data > 0])"
   ]
  },
  {
   "cell_type": "code",
   "execution_count": 9,
   "metadata": {},
   "outputs": [],
   "source": [
    "# Separate features and target\n",
    "X = data.drop(columns=['Mean_Salary'])  # Features\n",
    "y = data['Mean_Salary']                # Target variable"
   ]
  },
  {
   "cell_type": "code",
   "execution_count": 10,
   "metadata": {},
   "outputs": [],
   "source": [
    "# Identify categorical and numerical columns\n",
    "categorical_cols = X.select_dtypes(include=['object']).columns\n",
    "numerical_cols = X.select_dtypes(include=['int64', 'float64']).columns"
   ]
  },
  {
   "cell_type": "code",
   "execution_count": 11,
   "metadata": {},
   "outputs": [
    {
     "name": "stdout",
     "output_type": "stream",
     "text": [
      "Categorical Columns with Missing Values:\n",
      "Profile         21107\n",
      "Remote          19319\n",
      "Company             9\n",
      "Location           13\n",
      "City             3824\n",
      "State            3112\n",
      "Sector           7214\n",
      "Sector_Group     7214\n",
      "Revenue         18318\n",
      "Employee        12799\n",
      "Director        20785\n",
      "URL             16033\n",
      "dtype: int64\n"
     ]
    }
   ],
   "source": [
    "# Check for missing values in categorical columns\n",
    "categorical_missing = X[categorical_cols].isnull().sum()\n",
    "\n",
    "# Filter to show only columns with missing values\n",
    "categorical_missing = categorical_missing[categorical_missing > 0]\n",
    "\n",
    "# Print the results\n",
    "print(\"Categorical Columns with Missing Values:\")\n",
    "print(categorical_missing)"
   ]
  },
  {
   "cell_type": "markdown",
   "metadata": {},
   "source": [
    "# 3. Data Cleaning and Preprocessing"
   ]
  },
  {
   "cell_type": "code",
   "execution_count": 12,
   "metadata": {},
   "outputs": [],
   "source": [
    "# ---- Step 1: Handle Missing Values ----\n",
    "# Impute missing values for numerical columns\n",
    "numerical_imputer = SimpleImputer(strategy='median')\n",
    "X[numerical_cols] = numerical_imputer.fit_transform(X[numerical_cols])"
   ]
  },
  {
   "cell_type": "code",
   "execution_count": 13,
   "metadata": {},
   "outputs": [],
   "source": [
    "# Replace missing values in categorical columns with \"unknown\"\n",
    "for col in categorical_cols:\n",
    "    X[col] = X[col].fillna('unknown')"
   ]
  },
  {
   "cell_type": "code",
   "execution_count": 14,
   "metadata": {},
   "outputs": [
    {
     "name": "stdout",
     "output_type": "stream",
     "text": [
      "Missing Values After Replacement:\n",
      "ID                  0\n",
      "Job                 0\n",
      "Jobs_Group          0\n",
      "Profile             0\n",
      "Remote              0\n",
      "Company             0\n",
      "Location            0\n",
      "City                0\n",
      "State               0\n",
      "Frecuency_Salary    0\n",
      "Skills              0\n",
      "Sector              0\n",
      "Sector_Group        0\n",
      "Revenue             0\n",
      "Employee            0\n",
      "Director            0\n",
      "URL                 0\n",
      "dtype: int64\n"
     ]
    }
   ],
   "source": [
    "# Verify the replacements\n",
    "print(\"Missing Values After Replacement:\")\n",
    "print(X[categorical_cols].isnull().sum())"
   ]
  },
  {
   "cell_type": "markdown",
   "metadata": {},
   "source": [
    "# 4. Train-Test Split"
   ]
  },
  {
   "cell_type": "code",
   "execution_count": 15,
   "metadata": {},
   "outputs": [],
   "source": [
    "# ---- Step 4: Split Data ----\n",
    "# Split data into train and validation sets\n",
    "X_train, X_val, y_train, y_val = train_test_split(X, y, test_size=0.2, random_state=42)"
   ]
  },
  {
   "cell_type": "code",
   "execution_count": 16,
   "metadata": {},
   "outputs": [
    {
     "name": "stdout",
     "output_type": "stream",
     "text": [
      "\n",
      "Preprocessing Complete!\n",
      "X_train shape: (26598, 20)\n",
      "X_val shape: (6650, 20)\n"
     ]
    }
   ],
   "source": [
    "# Print confirmation and shapes\n",
    "print(\"\\nPreprocessing Complete!\")\n",
    "print(\"X_train shape:\", X_train.shape)\n",
    "print(\"X_val shape:\", X_val.shape)"
   ]
  },
  {
   "cell_type": "code",
   "execution_count": 17,
   "metadata": {},
   "outputs": [
    {
     "name": "stdout",
     "output_type": "stream",
     "text": [
      "                         ID  \\\n",
      "10347  job_60370f42fdb420cd   \n",
      "14809  job_7c73e081706cbb63   \n",
      "19012  job_a9a6f115ff5190df   \n",
      "23734  job_4d28b8fc715db2d5   \n",
      "31822  job_b392816fa51f6caf   \n",
      "...                     ...   \n",
      "16850  job_bfb48754a5b59c5c   \n",
      "6265    sj_9a055bf99ad75432   \n",
      "11284  job_939b04bfa9c333a6   \n",
      "860    job_929fa7da71314b7f   \n",
      "15795  job_995d9825eb74356c   \n",
      "\n",
      "                                                     Job         Jobs_Group  \\\n",
      "10347  Business Systems Analyst – Core Software Solut...   Business Analyst   \n",
      "14809                           Budget Analyst 1, 2 or 3  Financial Analyst   \n",
      "19012                                      Sales Analyst       Data Analyst   \n",
      "23734          Financial Planning & Analysis Analyst III  Financial Analyst   \n",
      "31822                              Python/ Data Engineer      Data Engineer   \n",
      "...                                                  ...                ...   \n",
      "16850                                     Data Scientist     Data Scientist   \n",
      "6265                 Accounting Manager - Work from home            Finance   \n",
      "11284                                 Accounting Manager            Finance   \n",
      "860                  Software Development Manager-REMOTE             Others   \n",
      "15795  Financial Analyst or Senior Financial Analyst ...  Financial Analyst   \n",
      "\n",
      "       Profile   Remote                                  Company  \\\n",
      "10347  unknown   Remote  The New Hampshire Charitable Foundation   \n",
      "14809  unknown  unknown      Georgia Department of Public Health   \n",
      "19012  unknown  unknown                           Monster Energy   \n",
      "23734  unknown  unknown                             Edward Jones   \n",
      "31822  unknown  unknown                             Intuites LLC   \n",
      "...        ...      ...                                      ...   \n",
      "16850  unknown  unknown                         TELLUS SOLUTIONS   \n",
      "6265      Lead   Remote                       Finance A La Carte   \n",
      "11284     Lead  unknown            Sheraton Grand Rapids Airport   \n",
      "860       Lead   Remote                                  Pomeroy   \n",
      "15795   Senior   Remote  Universtiy of Illinois Urbana-Champaign   \n",
      "\n",
      "                              Location          City    State  \\\n",
      "10347                Concord, NH 03301       Concord       NH   \n",
      "14809           Albany, GA+1 ubicación        Albany       GA   \n",
      "19012                 Corona, CA 92879        Corona       CA   \n",
      "23734       Tempe, AZ 85285+1 location         Tempe       AZ   \n",
      "31822             Wilmington, DE 19801    Wilmington       DE   \n",
      "...                                ...           ...      ...   \n",
      "16850  San Bruno, CA 94066+4 locations     San Bruno       CA   \n",
      "6265                            Remote       unknown  unknown   \n",
      "11284                 Grand Rapids, MI  Grand Rapids       MI   \n",
      "860                 Remote+2 locations       unknown  unknown   \n",
      "15795                 Urbana, IL 61801        Urbana       IL   \n",
      "\n",
      "      Frecuency_Salary                                             Skills  \\\n",
      "10347             year           ['Power Automate', 'Office', 'Power BI']   \n",
      "14809             year                             ['Office', 'Bachelor']   \n",
      "19012             year  ['PowerPoint', 'Power BI', 'Word', 'Excel', 'S...   \n",
      "23734             year  ['PowerPoint', 'Power BI', 'MBA', 'SQL', 'Tabl...   \n",
      "31822             year    ['Python', 'SQL', 'Spark', 'AWS', 'Databricks']   \n",
      "...                ...                                                ...   \n",
      "16850             hour  ['Python', 'SQL', 'PhD', 'Master', 'C++', 'Spa...   \n",
      "6265              year                                       ['Bachelor']   \n",
      "11284             year                                                 []   \n",
      "860               year                                       ['Bachelor']   \n",
      "15795             year            ['CSS', 'Bachelor', 'Office', 'Access']   \n",
      "\n",
      "                                     Sector             Sector_Group  Revenue  \\\n",
      "10347  Donations and Charitable Foundations  Nonprofit Organizations  unknown   \n",
      "14809  Government and Public Administration               Government  unknown   \n",
      "19012                         Manufacturing    Product Manufacturing      XXS   \n",
      "23734                               Finance                  Finance       XL   \n",
      "31822                               unknown                  unknown     XXXS   \n",
      "...                                     ...                      ...      ...   \n",
      "16850        Consumer Product Manufacturing    Product Manufacturing      XXS   \n",
      "6265                    Business Consulting               Consulting  unknown   \n",
      "11284                               unknown                  unknown  unknown   \n",
      "860                  Information Technology   Information Technology        L   \n",
      "15795                               unknown                  unknown  unknown   \n",
      "\n",
      "      Employee  Company_Score  Reviews          Director  Director_Score  \\\n",
      "10347  unknown            3.7    117.0           unknown            0.78   \n",
      "14809      XXL            3.5    184.0           unknown            0.78   \n",
      "19012       XL            4.0    250.0   Rodney C. Sacks            0.82   \n",
      "23734     XXXL            3.8   2081.0  Penny Pennington            0.83   \n",
      "31822       XS            3.7    117.0           unknown            0.78   \n",
      "...        ...            ...      ...               ...             ...   \n",
      "16850       XS            4.3      8.0           unknown            0.78   \n",
      "6265   unknown            3.7    117.0           unknown            0.78   \n",
      "11284  unknown            3.7    117.0           unknown            0.78   \n",
      "860         XL            3.2    539.0      Chris Froman            0.55   \n",
      "15795  unknown            3.7    117.0           unknown            0.78   \n",
      "\n",
      "                                 URL  \n",
      "10347                        unknown  \n",
      "14809       https://dph.georgia.gov/  \n",
      "19012  http://www.monsterenergy.com/  \n",
      "23734    http://www.edwardjones.com/  \n",
      "31822       http://www.intuites.com/  \n",
      "...                              ...  \n",
      "16850      http://www.tellussol.com/  \n",
      "6265                         unknown  \n",
      "11284                        unknown  \n",
      "860         https://www.pomeroy.com/  \n",
      "15795                        unknown  \n",
      "\n",
      "[26598 rows x 20 columns]\n"
     ]
    }
   ],
   "source": [
    "print(X_train)"
   ]
  },
  {
   "cell_type": "markdown",
   "metadata": {},
   "source": [
    "# 5. Train and Evaluate a Effective Model using PyCaret"
   ]
  },
  {
   "cell_type": "code",
   "execution_count": 18,
   "metadata": {},
   "outputs": [],
   "source": [
    "from pycaret.regression import *\n",
    "import pandas as pd"
   ]
  },
  {
   "cell_type": "code",
   "execution_count": 19,
   "metadata": {},
   "outputs": [],
   "source": [
    "# Combine X and y into a single DataFrame\n",
    "train_data = X.copy()\n",
    "train_data['Mean_Salary'] = y"
   ]
  },
  {
   "cell_type": "code",
   "execution_count": 20,
   "metadata": {},
   "outputs": [
    {
     "data": {
      "text/html": [
       "<style type=\"text/css\">\n",
       "#T_a7a9c_row9_col1, #T_a7a9c_row15_col1 {\n",
       "  background-color: lightgreen;\n",
       "}\n",
       "</style>\n",
       "<table id=\"T_a7a9c\">\n",
       "  <thead>\n",
       "    <tr>\n",
       "      <th class=\"blank level0\" >&nbsp;</th>\n",
       "      <th id=\"T_a7a9c_level0_col0\" class=\"col_heading level0 col0\" >Description</th>\n",
       "      <th id=\"T_a7a9c_level0_col1\" class=\"col_heading level0 col1\" >Value</th>\n",
       "    </tr>\n",
       "  </thead>\n",
       "  <tbody>\n",
       "    <tr>\n",
       "      <th id=\"T_a7a9c_level0_row0\" class=\"row_heading level0 row0\" >0</th>\n",
       "      <td id=\"T_a7a9c_row0_col0\" class=\"data row0 col0\" >Session id</td>\n",
       "      <td id=\"T_a7a9c_row0_col1\" class=\"data row0 col1\" >42</td>\n",
       "    </tr>\n",
       "    <tr>\n",
       "      <th id=\"T_a7a9c_level0_row1\" class=\"row_heading level0 row1\" >1</th>\n",
       "      <td id=\"T_a7a9c_row1_col0\" class=\"data row1 col0\" >Target</td>\n",
       "      <td id=\"T_a7a9c_row1_col1\" class=\"data row1 col1\" >Mean_Salary</td>\n",
       "    </tr>\n",
       "    <tr>\n",
       "      <th id=\"T_a7a9c_level0_row2\" class=\"row_heading level0 row2\" >2</th>\n",
       "      <td id=\"T_a7a9c_row2_col0\" class=\"data row2 col0\" >Target type</td>\n",
       "      <td id=\"T_a7a9c_row2_col1\" class=\"data row2 col1\" >Regression</td>\n",
       "    </tr>\n",
       "    <tr>\n",
       "      <th id=\"T_a7a9c_level0_row3\" class=\"row_heading level0 row3\" >3</th>\n",
       "      <td id=\"T_a7a9c_row3_col0\" class=\"data row3 col0\" >Original data shape</td>\n",
       "      <td id=\"T_a7a9c_row3_col1\" class=\"data row3 col1\" >(33248, 21)</td>\n",
       "    </tr>\n",
       "    <tr>\n",
       "      <th id=\"T_a7a9c_level0_row4\" class=\"row_heading level0 row4\" >4</th>\n",
       "      <td id=\"T_a7a9c_row4_col0\" class=\"data row4 col0\" >Transformed data shape</td>\n",
       "      <td id=\"T_a7a9c_row4_col1\" class=\"data row4 col1\" >(33248, 61)</td>\n",
       "    </tr>\n",
       "    <tr>\n",
       "      <th id=\"T_a7a9c_level0_row5\" class=\"row_heading level0 row5\" >5</th>\n",
       "      <td id=\"T_a7a9c_row5_col0\" class=\"data row5 col0\" >Transformed train set shape</td>\n",
       "      <td id=\"T_a7a9c_row5_col1\" class=\"data row5 col1\" >(26598, 61)</td>\n",
       "    </tr>\n",
       "    <tr>\n",
       "      <th id=\"T_a7a9c_level0_row6\" class=\"row_heading level0 row6\" >6</th>\n",
       "      <td id=\"T_a7a9c_row6_col0\" class=\"data row6 col0\" >Transformed test set shape</td>\n",
       "      <td id=\"T_a7a9c_row6_col1\" class=\"data row6 col1\" >(6650, 61)</td>\n",
       "    </tr>\n",
       "    <tr>\n",
       "      <th id=\"T_a7a9c_level0_row7\" class=\"row_heading level0 row7\" >7</th>\n",
       "      <td id=\"T_a7a9c_row7_col0\" class=\"data row7 col0\" >Numeric features</td>\n",
       "      <td id=\"T_a7a9c_row7_col1\" class=\"data row7 col1\" >3</td>\n",
       "    </tr>\n",
       "    <tr>\n",
       "      <th id=\"T_a7a9c_level0_row8\" class=\"row_heading level0 row8\" >8</th>\n",
       "      <td id=\"T_a7a9c_row8_col0\" class=\"data row8 col0\" >Categorical features</td>\n",
       "      <td id=\"T_a7a9c_row8_col1\" class=\"data row8 col1\" >17</td>\n",
       "    </tr>\n",
       "    <tr>\n",
       "      <th id=\"T_a7a9c_level0_row9\" class=\"row_heading level0 row9\" >9</th>\n",
       "      <td id=\"T_a7a9c_row9_col0\" class=\"data row9 col0\" >Preprocess</td>\n",
       "      <td id=\"T_a7a9c_row9_col1\" class=\"data row9 col1\" >True</td>\n",
       "    </tr>\n",
       "    <tr>\n",
       "      <th id=\"T_a7a9c_level0_row10\" class=\"row_heading level0 row10\" >10</th>\n",
       "      <td id=\"T_a7a9c_row10_col0\" class=\"data row10 col0\" >Imputation type</td>\n",
       "      <td id=\"T_a7a9c_row10_col1\" class=\"data row10 col1\" >simple</td>\n",
       "    </tr>\n",
       "    <tr>\n",
       "      <th id=\"T_a7a9c_level0_row11\" class=\"row_heading level0 row11\" >11</th>\n",
       "      <td id=\"T_a7a9c_row11_col0\" class=\"data row11 col0\" >Numeric imputation</td>\n",
       "      <td id=\"T_a7a9c_row11_col1\" class=\"data row11 col1\" >mean</td>\n",
       "    </tr>\n",
       "    <tr>\n",
       "      <th id=\"T_a7a9c_level0_row12\" class=\"row_heading level0 row12\" >12</th>\n",
       "      <td id=\"T_a7a9c_row12_col0\" class=\"data row12 col0\" >Categorical imputation</td>\n",
       "      <td id=\"T_a7a9c_row12_col1\" class=\"data row12 col1\" >mode</td>\n",
       "    </tr>\n",
       "    <tr>\n",
       "      <th id=\"T_a7a9c_level0_row13\" class=\"row_heading level0 row13\" >13</th>\n",
       "      <td id=\"T_a7a9c_row13_col0\" class=\"data row13 col0\" >Maximum one-hot encoding</td>\n",
       "      <td id=\"T_a7a9c_row13_col1\" class=\"data row13 col1\" >25</td>\n",
       "    </tr>\n",
       "    <tr>\n",
       "      <th id=\"T_a7a9c_level0_row14\" class=\"row_heading level0 row14\" >14</th>\n",
       "      <td id=\"T_a7a9c_row14_col0\" class=\"data row14 col0\" >Encoding method</td>\n",
       "      <td id=\"T_a7a9c_row14_col1\" class=\"data row14 col1\" >None</td>\n",
       "    </tr>\n",
       "    <tr>\n",
       "      <th id=\"T_a7a9c_level0_row15\" class=\"row_heading level0 row15\" >15</th>\n",
       "      <td id=\"T_a7a9c_row15_col0\" class=\"data row15 col0\" >Normalize</td>\n",
       "      <td id=\"T_a7a9c_row15_col1\" class=\"data row15 col1\" >True</td>\n",
       "    </tr>\n",
       "    <tr>\n",
       "      <th id=\"T_a7a9c_level0_row16\" class=\"row_heading level0 row16\" >16</th>\n",
       "      <td id=\"T_a7a9c_row16_col0\" class=\"data row16 col0\" >Normalize method</td>\n",
       "      <td id=\"T_a7a9c_row16_col1\" class=\"data row16 col1\" >zscore</td>\n",
       "    </tr>\n",
       "    <tr>\n",
       "      <th id=\"T_a7a9c_level0_row17\" class=\"row_heading level0 row17\" >17</th>\n",
       "      <td id=\"T_a7a9c_row17_col0\" class=\"data row17 col0\" >Fold Generator</td>\n",
       "      <td id=\"T_a7a9c_row17_col1\" class=\"data row17 col1\" >KFold</td>\n",
       "    </tr>\n",
       "    <tr>\n",
       "      <th id=\"T_a7a9c_level0_row18\" class=\"row_heading level0 row18\" >18</th>\n",
       "      <td id=\"T_a7a9c_row18_col0\" class=\"data row18 col0\" >Fold Number</td>\n",
       "      <td id=\"T_a7a9c_row18_col1\" class=\"data row18 col1\" >10</td>\n",
       "    </tr>\n",
       "    <tr>\n",
       "      <th id=\"T_a7a9c_level0_row19\" class=\"row_heading level0 row19\" >19</th>\n",
       "      <td id=\"T_a7a9c_row19_col0\" class=\"data row19 col0\" >CPU Jobs</td>\n",
       "      <td id=\"T_a7a9c_row19_col1\" class=\"data row19 col1\" >-1</td>\n",
       "    </tr>\n",
       "    <tr>\n",
       "      <th id=\"T_a7a9c_level0_row20\" class=\"row_heading level0 row20\" >20</th>\n",
       "      <td id=\"T_a7a9c_row20_col0\" class=\"data row20 col0\" >Use GPU</td>\n",
       "      <td id=\"T_a7a9c_row20_col1\" class=\"data row20 col1\" >False</td>\n",
       "    </tr>\n",
       "    <tr>\n",
       "      <th id=\"T_a7a9c_level0_row21\" class=\"row_heading level0 row21\" >21</th>\n",
       "      <td id=\"T_a7a9c_row21_col0\" class=\"data row21 col0\" >Log Experiment</td>\n",
       "      <td id=\"T_a7a9c_row21_col1\" class=\"data row21 col1\" >False</td>\n",
       "    </tr>\n",
       "    <tr>\n",
       "      <th id=\"T_a7a9c_level0_row22\" class=\"row_heading level0 row22\" >22</th>\n",
       "      <td id=\"T_a7a9c_row22_col0\" class=\"data row22 col0\" >Experiment Name</td>\n",
       "      <td id=\"T_a7a9c_row22_col1\" class=\"data row22 col1\" >reg-default-name</td>\n",
       "    </tr>\n",
       "    <tr>\n",
       "      <th id=\"T_a7a9c_level0_row23\" class=\"row_heading level0 row23\" >23</th>\n",
       "      <td id=\"T_a7a9c_row23_col0\" class=\"data row23 col0\" >USI</td>\n",
       "      <td id=\"T_a7a9c_row23_col1\" class=\"data row23 col1\" >0765</td>\n",
       "    </tr>\n",
       "  </tbody>\n",
       "</table>\n"
      ],
      "text/plain": [
       "<pandas.io.formats.style.Styler at 0x1e9735510d0>"
      ]
     },
     "metadata": {},
     "output_type": "display_data"
    }
   ],
   "source": [
    "# Initialize PyCaret\n",
    "regression_setup = setup(\n",
    "    data=train_data,\n",
    "    target='Mean_Salary',            # Target variable\n",
    "    train_size=0.8,                  # 80-20 train-test split within PyCaret\n",
    "    normalize=True,                  # Ensure features are scaled\n",
    "    session_id=42,                   # For reproducibility\n",
    ")"
   ]
  },
  {
   "cell_type": "code",
   "execution_count": 21,
   "metadata": {},
   "outputs": [
    {
     "data": {
      "text/html": [],
      "text/plain": [
       "<IPython.core.display.HTML object>"
      ]
     },
     "metadata": {},
     "output_type": "display_data"
    },
    {
     "data": {
      "text/html": [
       "<style type=\"text/css\">\n",
       "#T_1f0d7 th {\n",
       "  text-align: left;\n",
       "}\n",
       "#T_1f0d7_row0_col0, #T_1f0d7_row1_col0, #T_1f0d7_row1_col1, #T_1f0d7_row1_col2, #T_1f0d7_row1_col3, #T_1f0d7_row1_col4, #T_1f0d7_row1_col5, #T_1f0d7_row1_col6, #T_1f0d7_row2_col0, #T_1f0d7_row2_col1, #T_1f0d7_row2_col2, #T_1f0d7_row2_col3, #T_1f0d7_row2_col4, #T_1f0d7_row2_col5, #T_1f0d7_row2_col6, #T_1f0d7_row3_col0, #T_1f0d7_row3_col1, #T_1f0d7_row3_col2, #T_1f0d7_row3_col3, #T_1f0d7_row3_col4, #T_1f0d7_row3_col5, #T_1f0d7_row3_col6, #T_1f0d7_row4_col0, #T_1f0d7_row4_col1, #T_1f0d7_row4_col2, #T_1f0d7_row4_col3, #T_1f0d7_row4_col4, #T_1f0d7_row4_col5, #T_1f0d7_row4_col6, #T_1f0d7_row5_col0, #T_1f0d7_row5_col1, #T_1f0d7_row5_col2, #T_1f0d7_row5_col3, #T_1f0d7_row5_col4, #T_1f0d7_row5_col5, #T_1f0d7_row5_col6, #T_1f0d7_row6_col0, #T_1f0d7_row6_col1, #T_1f0d7_row6_col2, #T_1f0d7_row6_col3, #T_1f0d7_row6_col4, #T_1f0d7_row6_col5, #T_1f0d7_row6_col6, #T_1f0d7_row7_col0, #T_1f0d7_row7_col1, #T_1f0d7_row7_col2, #T_1f0d7_row7_col3, #T_1f0d7_row7_col4, #T_1f0d7_row7_col5, #T_1f0d7_row7_col6, #T_1f0d7_row8_col0, #T_1f0d7_row8_col1, #T_1f0d7_row8_col2, #T_1f0d7_row8_col3, #T_1f0d7_row8_col4, #T_1f0d7_row8_col5, #T_1f0d7_row8_col6, #T_1f0d7_row9_col0, #T_1f0d7_row9_col1, #T_1f0d7_row9_col2, #T_1f0d7_row9_col3, #T_1f0d7_row9_col4, #T_1f0d7_row9_col5, #T_1f0d7_row9_col6, #T_1f0d7_row10_col0, #T_1f0d7_row10_col1, #T_1f0d7_row10_col2, #T_1f0d7_row10_col3, #T_1f0d7_row10_col4, #T_1f0d7_row10_col5, #T_1f0d7_row10_col6, #T_1f0d7_row11_col0, #T_1f0d7_row11_col1, #T_1f0d7_row11_col2, #T_1f0d7_row11_col3, #T_1f0d7_row11_col4, #T_1f0d7_row11_col5, #T_1f0d7_row11_col6, #T_1f0d7_row12_col0, #T_1f0d7_row12_col1, #T_1f0d7_row12_col2, #T_1f0d7_row12_col3, #T_1f0d7_row12_col4, #T_1f0d7_row12_col5, #T_1f0d7_row12_col6, #T_1f0d7_row13_col0, #T_1f0d7_row13_col1, #T_1f0d7_row13_col2, #T_1f0d7_row13_col3, #T_1f0d7_row13_col4, #T_1f0d7_row13_col5, #T_1f0d7_row13_col6, #T_1f0d7_row14_col0, #T_1f0d7_row14_col1, #T_1f0d7_row14_col2, #T_1f0d7_row14_col3, #T_1f0d7_row14_col4, #T_1f0d7_row14_col5, #T_1f0d7_row14_col6, #T_1f0d7_row15_col0, #T_1f0d7_row15_col1, #T_1f0d7_row15_col2, #T_1f0d7_row15_col3, #T_1f0d7_row15_col4, #T_1f0d7_row15_col5, #T_1f0d7_row15_col6, #T_1f0d7_row16_col0, #T_1f0d7_row16_col1, #T_1f0d7_row16_col2, #T_1f0d7_row16_col3, #T_1f0d7_row16_col4, #T_1f0d7_row16_col5, #T_1f0d7_row16_col6, #T_1f0d7_row17_col0, #T_1f0d7_row17_col1, #T_1f0d7_row17_col2, #T_1f0d7_row17_col3, #T_1f0d7_row17_col4, #T_1f0d7_row17_col5, #T_1f0d7_row17_col6, #T_1f0d7_row18_col0, #T_1f0d7_row18_col1, #T_1f0d7_row18_col2, #T_1f0d7_row18_col3, #T_1f0d7_row18_col4, #T_1f0d7_row18_col5, #T_1f0d7_row18_col6, #T_1f0d7_row19_col0, #T_1f0d7_row19_col1, #T_1f0d7_row19_col2, #T_1f0d7_row19_col3, #T_1f0d7_row19_col4, #T_1f0d7_row19_col5, #T_1f0d7_row19_col6 {\n",
       "  text-align: left;\n",
       "}\n",
       "#T_1f0d7_row0_col1, #T_1f0d7_row0_col2, #T_1f0d7_row0_col3, #T_1f0d7_row0_col4, #T_1f0d7_row0_col5, #T_1f0d7_row0_col6 {\n",
       "  text-align: left;\n",
       "  background-color: yellow;\n",
       "}\n",
       "#T_1f0d7_row0_col7, #T_1f0d7_row1_col7, #T_1f0d7_row2_col7, #T_1f0d7_row3_col7, #T_1f0d7_row4_col7, #T_1f0d7_row5_col7, #T_1f0d7_row6_col7, #T_1f0d7_row7_col7, #T_1f0d7_row9_col7, #T_1f0d7_row10_col7, #T_1f0d7_row11_col7, #T_1f0d7_row13_col7, #T_1f0d7_row14_col7, #T_1f0d7_row15_col7, #T_1f0d7_row16_col7, #T_1f0d7_row17_col7, #T_1f0d7_row18_col7, #T_1f0d7_row19_col7 {\n",
       "  text-align: left;\n",
       "  background-color: lightgrey;\n",
       "}\n",
       "#T_1f0d7_row8_col7, #T_1f0d7_row12_col7 {\n",
       "  text-align: left;\n",
       "  background-color: yellow;\n",
       "  background-color: lightgrey;\n",
       "}\n",
       "</style>\n",
       "<table id=\"T_1f0d7\">\n",
       "  <thead>\n",
       "    <tr>\n",
       "      <th class=\"blank level0\" >&nbsp;</th>\n",
       "      <th id=\"T_1f0d7_level0_col0\" class=\"col_heading level0 col0\" >Model</th>\n",
       "      <th id=\"T_1f0d7_level0_col1\" class=\"col_heading level0 col1\" >MAE</th>\n",
       "      <th id=\"T_1f0d7_level0_col2\" class=\"col_heading level0 col2\" >MSE</th>\n",
       "      <th id=\"T_1f0d7_level0_col3\" class=\"col_heading level0 col3\" >RMSE</th>\n",
       "      <th id=\"T_1f0d7_level0_col4\" class=\"col_heading level0 col4\" >R2</th>\n",
       "      <th id=\"T_1f0d7_level0_col5\" class=\"col_heading level0 col5\" >RMSLE</th>\n",
       "      <th id=\"T_1f0d7_level0_col6\" class=\"col_heading level0 col6\" >MAPE</th>\n",
       "      <th id=\"T_1f0d7_level0_col7\" class=\"col_heading level0 col7\" >TT (Sec)</th>\n",
       "    </tr>\n",
       "  </thead>\n",
       "  <tbody>\n",
       "    <tr>\n",
       "      <th id=\"T_1f0d7_level0_row0\" class=\"row_heading level0 row0\" >knn</th>\n",
       "      <td id=\"T_1f0d7_row0_col0\" class=\"data row0 col0\" >K Neighbors Regressor</td>\n",
       "      <td id=\"T_1f0d7_row0_col1\" class=\"data row0 col1\" >22596.2322</td>\n",
       "      <td id=\"T_1f0d7_row0_col2\" class=\"data row0 col2\" >1057256761.6000</td>\n",
       "      <td id=\"T_1f0d7_row0_col3\" class=\"data row0 col3\" >32498.7271</td>\n",
       "      <td id=\"T_1f0d7_row0_col4\" class=\"data row0 col4\" >0.4494</td>\n",
       "      <td id=\"T_1f0d7_row0_col5\" class=\"data row0 col5\" >0.2971</td>\n",
       "      <td id=\"T_1f0d7_row0_col6\" class=\"data row0 col6\" >0.2359</td>\n",
       "      <td id=\"T_1f0d7_row0_col7\" class=\"data row0 col7\" >0.1670</td>\n",
       "    </tr>\n",
       "    <tr>\n",
       "      <th id=\"T_1f0d7_level0_row1\" class=\"row_heading level0 row1\" >en</th>\n",
       "      <td id=\"T_1f0d7_row1_col0\" class=\"data row1 col0\" >Elastic Net</td>\n",
       "      <td id=\"T_1f0d7_row1_col1\" class=\"data row1 col1\" >26304.4667</td>\n",
       "      <td id=\"T_1f0d7_row1_col2\" class=\"data row1 col2\" >1272444001.4305</td>\n",
       "      <td id=\"T_1f0d7_row1_col3\" class=\"data row1 col3\" >35664.3987</td>\n",
       "      <td id=\"T_1f0d7_row1_col4\" class=\"data row1 col4\" >0.3371</td>\n",
       "      <td id=\"T_1f0d7_row1_col5\" class=\"data row1 col5\" >0.3382</td>\n",
       "      <td id=\"T_1f0d7_row1_col6\" class=\"data row1 col6\" >0.2959</td>\n",
       "      <td id=\"T_1f0d7_row1_col7\" class=\"data row1 col7\" >0.1190</td>\n",
       "    </tr>\n",
       "    <tr>\n",
       "      <th id=\"T_1f0d7_level0_row2\" class=\"row_heading level0 row2\" >et</th>\n",
       "      <td id=\"T_1f0d7_row2_col0\" class=\"data row2 col0\" >Extra Trees Regressor</td>\n",
       "      <td id=\"T_1f0d7_row2_col1\" class=\"data row2 col1\" >32972.5032</td>\n",
       "      <td id=\"T_1f0d7_row2_col2\" class=\"data row2 col2\" >1907943506.8039</td>\n",
       "      <td id=\"T_1f0d7_row2_col3\" class=\"data row2 col3\" >43675.1943</td>\n",
       "      <td id=\"T_1f0d7_row2_col4\" class=\"data row2 col4\" >0.0058</td>\n",
       "      <td id=\"T_1f0d7_row2_col5\" class=\"data row2 col5\" >0.4119</td>\n",
       "      <td id=\"T_1f0d7_row2_col6\" class=\"data row2 col6\" >0.3746</td>\n",
       "      <td id=\"T_1f0d7_row2_col7\" class=\"data row2 col7\" >1.0600</td>\n",
       "    </tr>\n",
       "    <tr>\n",
       "      <th id=\"T_1f0d7_level0_row3\" class=\"row_heading level0 row3\" >xgboost</th>\n",
       "      <td id=\"T_1f0d7_row3_col0\" class=\"data row3 col0\" >Extreme Gradient Boosting</td>\n",
       "      <td id=\"T_1f0d7_row3_col1\" class=\"data row3 col1\" >33013.0596</td>\n",
       "      <td id=\"T_1f0d7_row3_col2\" class=\"data row3 col2\" >1919396096.0000</td>\n",
       "      <td id=\"T_1f0d7_row3_col3\" class=\"data row3 col3\" >43805.8809</td>\n",
       "      <td id=\"T_1f0d7_row3_col4\" class=\"data row3 col4\" >-0.0001</td>\n",
       "      <td id=\"T_1f0d7_row3_col5\" class=\"data row3 col5\" >0.4125</td>\n",
       "      <td id=\"T_1f0d7_row3_col6\" class=\"data row3 col6\" >0.3742</td>\n",
       "      <td id=\"T_1f0d7_row3_col7\" class=\"data row3 col7\" >0.2000</td>\n",
       "    </tr>\n",
       "    <tr>\n",
       "      <th id=\"T_1f0d7_level0_row4\" class=\"row_heading level0 row4\" >lightgbm</th>\n",
       "      <td id=\"T_1f0d7_row4_col0\" class=\"data row4 col0\" >Light Gradient Boosting Machine</td>\n",
       "      <td id=\"T_1f0d7_row4_col1\" class=\"data row4 col1\" >33042.5579</td>\n",
       "      <td id=\"T_1f0d7_row4_col2\" class=\"data row4 col2\" >1919819542.4522</td>\n",
       "      <td id=\"T_1f0d7_row4_col3\" class=\"data row4 col3\" >43810.8333</td>\n",
       "      <td id=\"T_1f0d7_row4_col4\" class=\"data row4 col4\" >-0.0003</td>\n",
       "      <td id=\"T_1f0d7_row4_col5\" class=\"data row4 col5\" >0.4128</td>\n",
       "      <td id=\"T_1f0d7_row4_col6\" class=\"data row4 col6\" >0.3751</td>\n",
       "      <td id=\"T_1f0d7_row4_col7\" class=\"data row4 col7\" >0.2230</td>\n",
       "    </tr>\n",
       "    <tr>\n",
       "      <th id=\"T_1f0d7_level0_row5\" class=\"row_heading level0 row5\" >gbr</th>\n",
       "      <td id=\"T_1f0d7_row5_col0\" class=\"data row5 col0\" >Gradient Boosting Regressor</td>\n",
       "      <td id=\"T_1f0d7_row5_col1\" class=\"data row5 col1\" >33058.3298</td>\n",
       "      <td id=\"T_1f0d7_row5_col2\" class=\"data row5 col2\" >1919912308.6914</td>\n",
       "      <td id=\"T_1f0d7_row5_col3\" class=\"data row5 col3\" >43811.8838</td>\n",
       "      <td id=\"T_1f0d7_row5_col4\" class=\"data row5 col4\" >-0.0004</td>\n",
       "      <td id=\"T_1f0d7_row5_col5\" class=\"data row5 col5\" >0.4130</td>\n",
       "      <td id=\"T_1f0d7_row5_col6\" class=\"data row5 col6\" >0.3756</td>\n",
       "      <td id=\"T_1f0d7_row5_col7\" class=\"data row5 col7\" >0.6300</td>\n",
       "    </tr>\n",
       "    <tr>\n",
       "      <th id=\"T_1f0d7_level0_row6\" class=\"row_heading level0 row6\" >ridge</th>\n",
       "      <td id=\"T_1f0d7_row6_col0\" class=\"data row6 col0\" >Ridge Regression</td>\n",
       "      <td id=\"T_1f0d7_row6_col1\" class=\"data row6 col1\" >33040.7256</td>\n",
       "      <td id=\"T_1f0d7_row6_col2\" class=\"data row6 col2\" >1920056120.0250</td>\n",
       "      <td id=\"T_1f0d7_row6_col3\" class=\"data row6 col3\" >43813.4886</td>\n",
       "      <td id=\"T_1f0d7_row6_col4\" class=\"data row6 col4\" >-0.0005</td>\n",
       "      <td id=\"T_1f0d7_row6_col5\" class=\"data row6 col5\" >0.4128</td>\n",
       "      <td id=\"T_1f0d7_row6_col6\" class=\"data row6 col6\" >0.3750</td>\n",
       "      <td id=\"T_1f0d7_row6_col7\" class=\"data row6 col7\" >0.1150</td>\n",
       "    </tr>\n",
       "    <tr>\n",
       "      <th id=\"T_1f0d7_level0_row7\" class=\"row_heading level0 row7\" >huber</th>\n",
       "      <td id=\"T_1f0d7_row7_col0\" class=\"data row7 col0\" >Huber Regressor</td>\n",
       "      <td id=\"T_1f0d7_row7_col1\" class=\"data row7 col1\" >33042.7430</td>\n",
       "      <td id=\"T_1f0d7_row7_col2\" class=\"data row7 col2\" >1920260824.9564</td>\n",
       "      <td id=\"T_1f0d7_row7_col3\" class=\"data row7 col3\" >43815.8108</td>\n",
       "      <td id=\"T_1f0d7_row7_col4\" class=\"data row7 col4\" >-0.0006</td>\n",
       "      <td id=\"T_1f0d7_row7_col5\" class=\"data row7 col5\" >0.4128</td>\n",
       "      <td id=\"T_1f0d7_row7_col6\" class=\"data row7 col6\" >0.3750</td>\n",
       "      <td id=\"T_1f0d7_row7_col7\" class=\"data row7 col7\" >0.4190</td>\n",
       "    </tr>\n",
       "    <tr>\n",
       "      <th id=\"T_1f0d7_level0_row8\" class=\"row_heading level0 row8\" >omp</th>\n",
       "      <td id=\"T_1f0d7_row8_col0\" class=\"data row8 col0\" >Orthogonal Matching Pursuit</td>\n",
       "      <td id=\"T_1f0d7_row8_col1\" class=\"data row8 col1\" >33042.7607</td>\n",
       "      <td id=\"T_1f0d7_row8_col2\" class=\"data row8 col2\" >1920278539.1143</td>\n",
       "      <td id=\"T_1f0d7_row8_col3\" class=\"data row8 col3\" >43816.0265</td>\n",
       "      <td id=\"T_1f0d7_row8_col4\" class=\"data row8 col4\" >-0.0006</td>\n",
       "      <td id=\"T_1f0d7_row8_col5\" class=\"data row8 col5\" >0.4128</td>\n",
       "      <td id=\"T_1f0d7_row8_col6\" class=\"data row8 col6\" >0.3750</td>\n",
       "      <td id=\"T_1f0d7_row8_col7\" class=\"data row8 col7\" >0.1120</td>\n",
       "    </tr>\n",
       "    <tr>\n",
       "      <th id=\"T_1f0d7_level0_row9\" class=\"row_heading level0 row9\" >lr</th>\n",
       "      <td id=\"T_1f0d7_row9_col0\" class=\"data row9 col0\" >Linear Regression</td>\n",
       "      <td id=\"T_1f0d7_row9_col1\" class=\"data row9 col1\" >33042.7607</td>\n",
       "      <td id=\"T_1f0d7_row9_col2\" class=\"data row9 col2\" >1920278539.1143</td>\n",
       "      <td id=\"T_1f0d7_row9_col3\" class=\"data row9 col3\" >43816.0265</td>\n",
       "      <td id=\"T_1f0d7_row9_col4\" class=\"data row9 col4\" >-0.0006</td>\n",
       "      <td id=\"T_1f0d7_row9_col5\" class=\"data row9 col5\" >0.4128</td>\n",
       "      <td id=\"T_1f0d7_row9_col6\" class=\"data row9 col6\" >0.3750</td>\n",
       "      <td id=\"T_1f0d7_row9_col7\" class=\"data row9 col7\" >0.3560</td>\n",
       "    </tr>\n",
       "    <tr>\n",
       "      <th id=\"T_1f0d7_level0_row10\" class=\"row_heading level0 row10\" >lar</th>\n",
       "      <td id=\"T_1f0d7_row10_col0\" class=\"data row10 col0\" >Least Angle Regression</td>\n",
       "      <td id=\"T_1f0d7_row10_col1\" class=\"data row10 col1\" >33042.7607</td>\n",
       "      <td id=\"T_1f0d7_row10_col2\" class=\"data row10 col2\" >1920278539.1143</td>\n",
       "      <td id=\"T_1f0d7_row10_col3\" class=\"data row10 col3\" >43816.0265</td>\n",
       "      <td id=\"T_1f0d7_row10_col4\" class=\"data row10 col4\" >-0.0006</td>\n",
       "      <td id=\"T_1f0d7_row10_col5\" class=\"data row10 col5\" >0.4128</td>\n",
       "      <td id=\"T_1f0d7_row10_col6\" class=\"data row10 col6\" >0.3750</td>\n",
       "      <td id=\"T_1f0d7_row10_col7\" class=\"data row10 col7\" >0.1140</td>\n",
       "    </tr>\n",
       "    <tr>\n",
       "      <th id=\"T_1f0d7_level0_row11\" class=\"row_heading level0 row11\" >lasso</th>\n",
       "      <td id=\"T_1f0d7_row11_col0\" class=\"data row11 col0\" >Lasso Regression</td>\n",
       "      <td id=\"T_1f0d7_row11_col1\" class=\"data row11 col1\" >33042.7607</td>\n",
       "      <td id=\"T_1f0d7_row11_col2\" class=\"data row11 col2\" >1920278539.1143</td>\n",
       "      <td id=\"T_1f0d7_row11_col3\" class=\"data row11 col3\" >43816.0265</td>\n",
       "      <td id=\"T_1f0d7_row11_col4\" class=\"data row11 col4\" >-0.0006</td>\n",
       "      <td id=\"T_1f0d7_row11_col5\" class=\"data row11 col5\" >0.4128</td>\n",
       "      <td id=\"T_1f0d7_row11_col6\" class=\"data row11 col6\" >0.3750</td>\n",
       "      <td id=\"T_1f0d7_row11_col7\" class=\"data row11 col7\" >0.3100</td>\n",
       "    </tr>\n",
       "    <tr>\n",
       "      <th id=\"T_1f0d7_level0_row12\" class=\"row_heading level0 row12\" >llar</th>\n",
       "      <td id=\"T_1f0d7_row12_col0\" class=\"data row12 col0\" >Lasso Least Angle Regression</td>\n",
       "      <td id=\"T_1f0d7_row12_col1\" class=\"data row12 col1\" >33042.7607</td>\n",
       "      <td id=\"T_1f0d7_row12_col2\" class=\"data row12 col2\" >1920278539.1143</td>\n",
       "      <td id=\"T_1f0d7_row12_col3\" class=\"data row12 col3\" >43816.0265</td>\n",
       "      <td id=\"T_1f0d7_row12_col4\" class=\"data row12 col4\" >-0.0006</td>\n",
       "      <td id=\"T_1f0d7_row12_col5\" class=\"data row12 col5\" >0.4128</td>\n",
       "      <td id=\"T_1f0d7_row12_col6\" class=\"data row12 col6\" >0.3750</td>\n",
       "      <td id=\"T_1f0d7_row12_col7\" class=\"data row12 col7\" >0.1120</td>\n",
       "    </tr>\n",
       "    <tr>\n",
       "      <th id=\"T_1f0d7_level0_row13\" class=\"row_heading level0 row13\" >dummy</th>\n",
       "      <td id=\"T_1f0d7_row13_col0\" class=\"data row13 col0\" >Dummy Regressor</td>\n",
       "      <td id=\"T_1f0d7_row13_col1\" class=\"data row13 col1\" >33042.7604</td>\n",
       "      <td id=\"T_1f0d7_row13_col2\" class=\"data row13 col2\" >1920278592.0000</td>\n",
       "      <td id=\"T_1f0d7_row13_col3\" class=\"data row13 col3\" >43816.0273</td>\n",
       "      <td id=\"T_1f0d7_row13_col4\" class=\"data row13 col4\" >-0.0006</td>\n",
       "      <td id=\"T_1f0d7_row13_col5\" class=\"data row13 col5\" >0.4128</td>\n",
       "      <td id=\"T_1f0d7_row13_col6\" class=\"data row13 col6\" >0.3750</td>\n",
       "      <td id=\"T_1f0d7_row13_col7\" class=\"data row13 col7\" >0.1130</td>\n",
       "    </tr>\n",
       "    <tr>\n",
       "      <th id=\"T_1f0d7_level0_row14\" class=\"row_heading level0 row14\" >par</th>\n",
       "      <td id=\"T_1f0d7_row14_col0\" class=\"data row14 col0\" >Passive Aggressive Regressor</td>\n",
       "      <td id=\"T_1f0d7_row14_col1\" class=\"data row14 col1\" >33042.7628</td>\n",
       "      <td id=\"T_1f0d7_row14_col2\" class=\"data row14 col2\" >1920278876.4931</td>\n",
       "      <td id=\"T_1f0d7_row14_col3\" class=\"data row14 col3\" >43816.0304</td>\n",
       "      <td id=\"T_1f0d7_row14_col4\" class=\"data row14 col4\" >-0.0006</td>\n",
       "      <td id=\"T_1f0d7_row14_col5\" class=\"data row14 col5\" >0.4128</td>\n",
       "      <td id=\"T_1f0d7_row14_col6\" class=\"data row14 col6\" >0.3750</td>\n",
       "      <td id=\"T_1f0d7_row14_col7\" class=\"data row14 col7\" >0.1180</td>\n",
       "    </tr>\n",
       "    <tr>\n",
       "      <th id=\"T_1f0d7_level0_row15\" class=\"row_heading level0 row15\" >rf</th>\n",
       "      <td id=\"T_1f0d7_row15_col0\" class=\"data row15 col0\" >Random Forest Regressor</td>\n",
       "      <td id=\"T_1f0d7_row15_col1\" class=\"data row15 col1\" >33042.7443</td>\n",
       "      <td id=\"T_1f0d7_row15_col2\" class=\"data row15 col2\" >1920292193.5239</td>\n",
       "      <td id=\"T_1f0d7_row15_col3\" class=\"data row15 col3\" >43816.1813</td>\n",
       "      <td id=\"T_1f0d7_row15_col4\" class=\"data row15 col4\" >-0.0006</td>\n",
       "      <td id=\"T_1f0d7_row15_col5\" class=\"data row15 col5\" >0.4128</td>\n",
       "      <td id=\"T_1f0d7_row15_col6\" class=\"data row15 col6\" >0.3750</td>\n",
       "      <td id=\"T_1f0d7_row15_col7\" class=\"data row15 col7\" >1.2140</td>\n",
       "    </tr>\n",
       "    <tr>\n",
       "      <th id=\"T_1f0d7_level0_row16\" class=\"row_heading level0 row16\" >dt</th>\n",
       "      <td id=\"T_1f0d7_row16_col0\" class=\"data row16 col0\" >Decision Tree Regressor</td>\n",
       "      <td id=\"T_1f0d7_row16_col1\" class=\"data row16 col1\" >33043.7002</td>\n",
       "      <td id=\"T_1f0d7_row16_col2\" class=\"data row16 col2\" >1920362869.4868</td>\n",
       "      <td id=\"T_1f0d7_row16_col3\" class=\"data row16 col3\" >43816.9777</td>\n",
       "      <td id=\"T_1f0d7_row16_col4\" class=\"data row16 col4\" >-0.0006</td>\n",
       "      <td id=\"T_1f0d7_row16_col5\" class=\"data row16 col5\" >0.4128</td>\n",
       "      <td id=\"T_1f0d7_row16_col6\" class=\"data row16 col6\" >0.3750</td>\n",
       "      <td id=\"T_1f0d7_row16_col7\" class=\"data row16 col7\" >0.1340</td>\n",
       "    </tr>\n",
       "    <tr>\n",
       "      <th id=\"T_1f0d7_level0_row17\" class=\"row_heading level0 row17\" >catboost</th>\n",
       "      <td id=\"T_1f0d7_row17_col0\" class=\"data row17 col0\" >CatBoost Regressor</td>\n",
       "      <td id=\"T_1f0d7_row17_col1\" class=\"data row17 col1\" >32991.3940</td>\n",
       "      <td id=\"T_1f0d7_row17_col2\" class=\"data row17 col2\" >1920704264.9388</td>\n",
       "      <td id=\"T_1f0d7_row17_col3\" class=\"data row17 col3\" >43820.8681</td>\n",
       "      <td id=\"T_1f0d7_row17_col4\" class=\"data row17 col4\" >-0.0008</td>\n",
       "      <td id=\"T_1f0d7_row17_col5\" class=\"data row17 col5\" >0.4123</td>\n",
       "      <td id=\"T_1f0d7_row17_col6\" class=\"data row17 col6\" >0.3735</td>\n",
       "      <td id=\"T_1f0d7_row17_col7\" class=\"data row17 col7\" >1.0060</td>\n",
       "    </tr>\n",
       "    <tr>\n",
       "      <th id=\"T_1f0d7_level0_row18\" class=\"row_heading level0 row18\" >ada</th>\n",
       "      <td id=\"T_1f0d7_row18_col0\" class=\"data row18 col0\" >AdaBoost Regressor</td>\n",
       "      <td id=\"T_1f0d7_row18_col1\" class=\"data row18 col1\" >33143.8040</td>\n",
       "      <td id=\"T_1f0d7_row18_col2\" class=\"data row18 col2\" >1928122585.0886</td>\n",
       "      <td id=\"T_1f0d7_row18_col3\" class=\"data row18 col3\" >43905.0283</td>\n",
       "      <td id=\"T_1f0d7_row18_col4\" class=\"data row18 col4\" >-0.0046</td>\n",
       "      <td id=\"T_1f0d7_row18_col5\" class=\"data row18 col5\" >0.4138</td>\n",
       "      <td id=\"T_1f0d7_row18_col6\" class=\"data row18 col6\" >0.3765</td>\n",
       "      <td id=\"T_1f0d7_row18_col7\" class=\"data row18 col7\" >0.4350</td>\n",
       "    </tr>\n",
       "    <tr>\n",
       "      <th id=\"T_1f0d7_level0_row19\" class=\"row_heading level0 row19\" >br</th>\n",
       "      <td id=\"T_1f0d7_row19_col0\" class=\"data row19 col0\" >Bayesian Ridge</td>\n",
       "      <td id=\"T_1f0d7_row19_col1\" class=\"data row19 col1\" >77297.6538</td>\n",
       "      <td id=\"T_1f0d7_row19_col2\" class=\"data row19 col2\" >11964526692.6188</td>\n",
       "      <td id=\"T_1f0d7_row19_col3\" class=\"data row19 col3\" >99749.1073</td>\n",
       "      <td id=\"T_1f0d7_row19_col4\" class=\"data row19 col4\" >-5.1938</td>\n",
       "      <td id=\"T_1f0d7_row19_col5\" class=\"data row19 col5\" >0.9147</td>\n",
       "      <td id=\"T_1f0d7_row19_col6\" class=\"data row19 col6\" >0.8746</td>\n",
       "      <td id=\"T_1f0d7_row19_col7\" class=\"data row19 col7\" >0.1890</td>\n",
       "    </tr>\n",
       "  </tbody>\n",
       "</table>\n"
      ],
      "text/plain": [
       "<pandas.io.formats.style.Styler at 0x1e96db9bfd0>"
      ]
     },
     "metadata": {},
     "output_type": "display_data"
    },
    {
     "data": {
      "text/html": [],
      "text/plain": [
       "<IPython.core.display.HTML object>"
      ]
     },
     "metadata": {},
     "output_type": "display_data"
    }
   ],
   "source": [
    "# Compare Models\n",
    "best_model = compare_models(sort='RMSE')"
   ]
  },
  {
   "cell_type": "code",
   "execution_count": 22,
   "metadata": {},
   "outputs": [
    {
     "data": {
      "text/html": [],
      "text/plain": [
       "<IPython.core.display.HTML object>"
      ]
     },
     "metadata": {},
     "output_type": "display_data"
    },
    {
     "data": {
      "text/html": [
       "<style type=\"text/css\">\n",
       "#T_ac37d_row10_col0, #T_ac37d_row10_col1, #T_ac37d_row10_col2, #T_ac37d_row10_col3, #T_ac37d_row10_col4, #T_ac37d_row10_col5 {\n",
       "  background: yellow;\n",
       "}\n",
       "</style>\n",
       "<table id=\"T_ac37d\">\n",
       "  <thead>\n",
       "    <tr>\n",
       "      <th class=\"blank level0\" >&nbsp;</th>\n",
       "      <th id=\"T_ac37d_level0_col0\" class=\"col_heading level0 col0\" >MAE</th>\n",
       "      <th id=\"T_ac37d_level0_col1\" class=\"col_heading level0 col1\" >MSE</th>\n",
       "      <th id=\"T_ac37d_level0_col2\" class=\"col_heading level0 col2\" >RMSE</th>\n",
       "      <th id=\"T_ac37d_level0_col3\" class=\"col_heading level0 col3\" >R2</th>\n",
       "      <th id=\"T_ac37d_level0_col4\" class=\"col_heading level0 col4\" >RMSLE</th>\n",
       "      <th id=\"T_ac37d_level0_col5\" class=\"col_heading level0 col5\" >MAPE</th>\n",
       "    </tr>\n",
       "    <tr>\n",
       "      <th class=\"index_name level0\" >Fold</th>\n",
       "      <th class=\"blank col0\" >&nbsp;</th>\n",
       "      <th class=\"blank col1\" >&nbsp;</th>\n",
       "      <th class=\"blank col2\" >&nbsp;</th>\n",
       "      <th class=\"blank col3\" >&nbsp;</th>\n",
       "      <th class=\"blank col4\" >&nbsp;</th>\n",
       "      <th class=\"blank col5\" >&nbsp;</th>\n",
       "    </tr>\n",
       "  </thead>\n",
       "  <tbody>\n",
       "    <tr>\n",
       "      <th id=\"T_ac37d_level0_row0\" class=\"row_heading level0 row0\" >0</th>\n",
       "      <td id=\"T_ac37d_row0_col0\" class=\"data row0 col0\" >21733.3864</td>\n",
       "      <td id=\"T_ac37d_row0_col1\" class=\"data row0 col1\" >946524535.7001</td>\n",
       "      <td id=\"T_ac37d_row0_col2\" class=\"data row0 col2\" >30765.6389</td>\n",
       "      <td id=\"T_ac37d_row0_col3\" class=\"data row0 col3\" >0.4894</td>\n",
       "      <td id=\"T_ac37d_row0_col4\" class=\"data row0 col4\" >0.2849</td>\n",
       "      <td id=\"T_ac37d_row0_col5\" class=\"data row0 col5\" >0.2272</td>\n",
       "    </tr>\n",
       "    <tr>\n",
       "      <th id=\"T_ac37d_level0_row1\" class=\"row_heading level0 row1\" >1</th>\n",
       "      <td id=\"T_ac37d_row1_col0\" class=\"data row1 col0\" >21985.0452</td>\n",
       "      <td id=\"T_ac37d_row1_col1\" class=\"data row1 col1\" >1095251811.2276</td>\n",
       "      <td id=\"T_ac37d_row1_col2\" class=\"data row1 col2\" >33094.5889</td>\n",
       "      <td id=\"T_ac37d_row1_col3\" class=\"data row1 col3\" >0.4391</td>\n",
       "      <td id=\"T_ac37d_row1_col4\" class=\"data row1 col4\" >0.2971</td>\n",
       "      <td id=\"T_ac37d_row1_col5\" class=\"data row1 col5\" >0.2346</td>\n",
       "    </tr>\n",
       "    <tr>\n",
       "      <th id=\"T_ac37d_level0_row2\" class=\"row_heading level0 row2\" >2</th>\n",
       "      <td id=\"T_ac37d_row2_col0\" class=\"data row2 col0\" >21839.1854</td>\n",
       "      <td id=\"T_ac37d_row2_col1\" class=\"data row2 col1\" >1010858258.0498</td>\n",
       "      <td id=\"T_ac37d_row2_col2\" class=\"data row2 col2\" >31793.9972</td>\n",
       "      <td id=\"T_ac37d_row2_col3\" class=\"data row2 col3\" >0.4749</td>\n",
       "      <td id=\"T_ac37d_row2_col4\" class=\"data row2 col4\" >0.2880</td>\n",
       "      <td id=\"T_ac37d_row2_col5\" class=\"data row2 col5\" >0.2271</td>\n",
       "    </tr>\n",
       "    <tr>\n",
       "      <th id=\"T_ac37d_level0_row3\" class=\"row_heading level0 row3\" >3</th>\n",
       "      <td id=\"T_ac37d_row3_col0\" class=\"data row3 col0\" >21902.0807</td>\n",
       "      <td id=\"T_ac37d_row3_col1\" class=\"data row3 col1\" >991173304.5616</td>\n",
       "      <td id=\"T_ac37d_row3_col2\" class=\"data row3 col2\" >31482.9050</td>\n",
       "      <td id=\"T_ac37d_row3_col3\" class=\"data row3 col3\" >0.4671</td>\n",
       "      <td id=\"T_ac37d_row3_col4\" class=\"data row3 col4\" >0.2860</td>\n",
       "      <td id=\"T_ac37d_row3_col5\" class=\"data row3 col5\" >0.2272</td>\n",
       "    </tr>\n",
       "    <tr>\n",
       "      <th id=\"T_ac37d_level0_row4\" class=\"row_heading level0 row4\" >4</th>\n",
       "      <td id=\"T_ac37d_row4_col0\" class=\"data row4 col0\" >22765.6609</td>\n",
       "      <td id=\"T_ac37d_row4_col1\" class=\"data row4 col1\" >1159166322.6526</td>\n",
       "      <td id=\"T_ac37d_row4_col2\" class=\"data row4 col2\" >34046.5317</td>\n",
       "      <td id=\"T_ac37d_row4_col3\" class=\"data row4 col3\" >0.4240</td>\n",
       "      <td id=\"T_ac37d_row4_col4\" class=\"data row4 col4\" >0.2972</td>\n",
       "      <td id=\"T_ac37d_row4_col5\" class=\"data row4 col5\" >0.2318</td>\n",
       "    </tr>\n",
       "    <tr>\n",
       "      <th id=\"T_ac37d_level0_row5\" class=\"row_heading level0 row5\" >5</th>\n",
       "      <td id=\"T_ac37d_row5_col0\" class=\"data row5 col0\" >22458.0636</td>\n",
       "      <td id=\"T_ac37d_row5_col1\" class=\"data row5 col1\" >1018870482.6164</td>\n",
       "      <td id=\"T_ac37d_row5_col2\" class=\"data row5 col2\" >31919.7507</td>\n",
       "      <td id=\"T_ac37d_row5_col3\" class=\"data row5 col3\" >0.4539</td>\n",
       "      <td id=\"T_ac37d_row5_col4\" class=\"data row5 col4\" >0.2940</td>\n",
       "      <td id=\"T_ac37d_row5_col5\" class=\"data row5 col5\" >0.2367</td>\n",
       "    </tr>\n",
       "    <tr>\n",
       "      <th id=\"T_ac37d_level0_row6\" class=\"row_heading level0 row6\" >6</th>\n",
       "      <td id=\"T_ac37d_row6_col0\" class=\"data row6 col0\" >22274.6690</td>\n",
       "      <td id=\"T_ac37d_row6_col1\" class=\"data row6 col1\" >1060777718.3323</td>\n",
       "      <td id=\"T_ac37d_row6_col2\" class=\"data row6 col2\" >32569.5827</td>\n",
       "      <td id=\"T_ac37d_row6_col3\" class=\"data row6 col3\" >0.4543</td>\n",
       "      <td id=\"T_ac37d_row6_col4\" class=\"data row6 col4\" >0.2907</td>\n",
       "      <td id=\"T_ac37d_row6_col5\" class=\"data row6 col5\" >0.2283</td>\n",
       "    </tr>\n",
       "    <tr>\n",
       "      <th id=\"T_ac37d_level0_row7\" class=\"row_heading level0 row7\" >7</th>\n",
       "      <td id=\"T_ac37d_row7_col0\" class=\"data row7 col0\" >21395.4729</td>\n",
       "      <td id=\"T_ac37d_row7_col1\" class=\"data row7 col1\" >947581193.9170</td>\n",
       "      <td id=\"T_ac37d_row7_col2\" class=\"data row7 col2\" >30782.8068</td>\n",
       "      <td id=\"T_ac37d_row7_col3\" class=\"data row7 col3\" >0.5018</td>\n",
       "      <td id=\"T_ac37d_row7_col4\" class=\"data row7 col4\" >0.2830</td>\n",
       "      <td id=\"T_ac37d_row7_col5\" class=\"data row7 col5\" >0.2228</td>\n",
       "    </tr>\n",
       "    <tr>\n",
       "      <th id=\"T_ac37d_level0_row8\" class=\"row_heading level0 row8\" >8</th>\n",
       "      <td id=\"T_ac37d_row8_col0\" class=\"data row8 col0\" >22152.4897</td>\n",
       "      <td id=\"T_ac37d_row8_col1\" class=\"data row8 col1\" >1029862604.0057</td>\n",
       "      <td id=\"T_ac37d_row8_col2\" class=\"data row8 col2\" >32091.4724</td>\n",
       "      <td id=\"T_ac37d_row8_col3\" class=\"data row8 col3\" >0.4883</td>\n",
       "      <td id=\"T_ac37d_row8_col4\" class=\"data row8 col4\" >0.2856</td>\n",
       "      <td id=\"T_ac37d_row8_col5\" class=\"data row8 col5\" >0.2259</td>\n",
       "    </tr>\n",
       "    <tr>\n",
       "      <th id=\"T_ac37d_level0_row9\" class=\"row_heading level0 row9\" >9</th>\n",
       "      <td id=\"T_ac37d_row9_col0\" class=\"data row9 col0\" >21765.1008</td>\n",
       "      <td id=\"T_ac37d_row9_col1\" class=\"data row9 col1\" >921225732.2203</td>\n",
       "      <td id=\"T_ac37d_row9_col2\" class=\"data row9 col2\" >30351.7006</td>\n",
       "      <td id=\"T_ac37d_row9_col3\" class=\"data row9 col3\" >0.5057</td>\n",
       "      <td id=\"T_ac37d_row9_col4\" class=\"data row9 col4\" >0.2888</td>\n",
       "      <td id=\"T_ac37d_row9_col5\" class=\"data row9 col5\" >0.2340</td>\n",
       "    </tr>\n",
       "    <tr>\n",
       "      <th id=\"T_ac37d_level0_row10\" class=\"row_heading level0 row10\" >Mean</th>\n",
       "      <td id=\"T_ac37d_row10_col0\" class=\"data row10 col0\" >22027.1155</td>\n",
       "      <td id=\"T_ac37d_row10_col1\" class=\"data row10 col1\" >1018129196.3283</td>\n",
       "      <td id=\"T_ac37d_row10_col2\" class=\"data row10 col2\" >31889.8975</td>\n",
       "      <td id=\"T_ac37d_row10_col3\" class=\"data row10 col3\" >0.4698</td>\n",
       "      <td id=\"T_ac37d_row10_col4\" class=\"data row10 col4\" >0.2895</td>\n",
       "      <td id=\"T_ac37d_row10_col5\" class=\"data row10 col5\" >0.2296</td>\n",
       "    </tr>\n",
       "    <tr>\n",
       "      <th id=\"T_ac37d_level0_row11\" class=\"row_heading level0 row11\" >Std</th>\n",
       "      <td id=\"T_ac37d_row11_col0\" class=\"data row11 col0\" >376.1368</td>\n",
       "      <td id=\"T_ac37d_row11_col1\" class=\"data row11 col1\" >69332895.2153</td>\n",
       "      <td id=\"T_ac37d_row11_col2\" class=\"data row11 col2\" >1078.7189</td>\n",
       "      <td id=\"T_ac37d_row11_col3\" class=\"data row11 col3\" >0.0257</td>\n",
       "      <td id=\"T_ac37d_row11_col4\" class=\"data row11 col4\" >0.0048</td>\n",
       "      <td id=\"T_ac37d_row11_col5\" class=\"data row11 col5\" >0.0042</td>\n",
       "    </tr>\n",
       "  </tbody>\n",
       "</table>\n"
      ],
      "text/plain": [
       "<pandas.io.formats.style.Styler at 0x1e9738fe410>"
      ]
     },
     "metadata": {},
     "output_type": "display_data"
    },
    {
     "data": {
      "text/html": [],
      "text/plain": [
       "<IPython.core.display.HTML object>"
      ]
     },
     "metadata": {},
     "output_type": "display_data"
    },
    {
     "name": "stdout",
     "output_type": "stream",
     "text": [
      "Fitting 10 folds for each of 10 candidates, totalling 100 fits\n"
     ]
    }
   ],
   "source": [
    "# Tune the Best Model\n",
    "tuned_model = tune_model(best_model, optimize='RMSE')"
   ]
  },
  {
   "cell_type": "code",
   "execution_count": 23,
   "metadata": {},
   "outputs": [],
   "source": [
    "# Finalize and Save the Model\n",
    "final_model = finalize_model(tuned_model)"
   ]
  },
  {
   "cell_type": "code",
   "execution_count": 24,
   "metadata": {},
   "outputs": [
    {
     "name": "stdout",
     "output_type": "stream",
     "text": [
      "\n",
      "Tuned Model Performance:\n"
     ]
    },
    {
     "data": {
      "application/vnd.jupyter.widget-view+json": {
       "model_id": "5736f4242ac5403d8307cd5f931cda81",
       "version_major": 2,
       "version_minor": 0
      },
      "text/plain": [
       "interactive(children=(ToggleButtons(description='Plot Type:', icons=('',), options=(('Pipeline Plot', 'pipelin…"
      ]
     },
     "metadata": {},
     "output_type": "display_data"
    }
   ],
   "source": [
    "# Display the performance of the tuned model\n",
    "print(\"\\nTuned Model Performance:\")\n",
    "evaluate_model(final_model)"
   ]
  }
 ],
 "metadata": {
  "kernelspec": {
   "display_name": "rai7005",
   "language": "python",
   "name": "python3"
  },
  "language_info": {
   "codemirror_mode": {
    "name": "ipython",
    "version": 3
   },
   "file_extension": ".py",
   "mimetype": "text/x-python",
   "name": "python",
   "nbconvert_exporter": "python",
   "pygments_lexer": "ipython3",
   "version": "3.11.9"
  }
 },
 "nbformat": 4,
 "nbformat_minor": 2
}
