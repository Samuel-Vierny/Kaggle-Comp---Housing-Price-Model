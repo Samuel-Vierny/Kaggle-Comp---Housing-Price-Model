{
 "cells": [
  {
   "cell_type": "markdown",
   "metadata": {},
   "source": [
    "Exploratory Data Analysis"
   ]
  },
  {
   "cell_type": "markdown",
   "metadata": {},
   "source": [
    "# Import Libraries"
   ]
  },
  {
   "cell_type": "code",
   "execution_count": 1915,
   "metadata": {},
   "outputs": [],
   "source": [
    "import pandas as pd\n",
    "import matplotlib.pyplot as plt\n",
    "import seaborn as sns\n",
    "import numpy as np\n",
    "from sklearn.model_selection import train_test_split\n",
    "from sklearn.impute import SimpleImputer\n",
    "from sklearn.preprocessing import OneHotEncoder, StandardScaler"
   ]
  },
  {
   "cell_type": "markdown",
   "metadata": {},
   "source": [
    "# 1. Load the Dataset"
   ]
  },
  {
   "cell_type": "code",
   "execution_count": 1916,
   "metadata": {},
   "outputs": [],
   "source": [
    "train = pd.read_csv('usjobs_train.csv')\n",
    "test = pd.read_csv('usjobs_test.csv')\n"
   ]
  },
  {
   "cell_type": "code",
   "execution_count": 1917,
   "metadata": {},
   "outputs": [
    {
     "name": "stdout",
     "output_type": "stream",
     "text": [
      "Dataset Overview:\n",
      "                     ID                                                Job  \\\n",
      "0  job_f2c807527f687b96  Part-time Reporting Business Analyst, Data & A...   \n",
      "1  job_2660d4c53505af10                                         Controller   \n",
      "2   sj_50358c44328ae06a                                 Sr Finance Analyst   \n",
      "3  job_a087fd700e3e85f0               Senior Business Intelligence Analyst   \n",
      "4  job_d2a2538a2c4d2033  Data Center Operations Analyst (Temporary Assi...   \n",
      "\n",
      "              Jobs_Group Profile  Remote  \\\n",
      "0      Financial Analyst     NaN  Remote   \n",
      "1             Controller     NaN     NaN   \n",
      "2      Financial Analyst  Senior     NaN   \n",
      "3  Business Intelligence  Senior  Hybrid   \n",
      "4     Operations Analyst     NaN  Remote   \n",
      "\n",
      "                                  Company  \\\n",
      "0           Sandy Hook Promise Foundation   \n",
      "1     Building Service 32BJ Benefit Funds   \n",
      "2                                     LCS   \n",
      "3        Federal Reserve Bank of Richmond   \n",
      "4  Los Angeles County Office of Education   \n",
      "\n",
      "                                   Location      City State Frecuency_Salary  \\\n",
      "0                                    Remote       NaN   NaN             hour   \n",
      "1         New York, NY 10013 (Tribeca area)  New York    NY             year   \n",
      "2                                       NaN       NaN   NaN             year   \n",
      "3  Richmond, VA 23219 (Central Office area)  Richmond    VA             year   \n",
      "4              Downey, CA 90242+1 ubicación    Downey    CA             hour   \n",
      "\n",
      "   ...                                             Skills  \\\n",
      "0  ...                         ['Salesforce', 'Bachelor']   \n",
      "1  ...  ['SQL', 'Master', 'Dynamics 365', 'Snowflake',...   \n",
      "2  ...                      ['Word', 'Bachelor', 'Excel']   \n",
      "3  ...  ['PowerPoint', 'Power BI', 'Tableau', 'Word', ...   \n",
      "4  ...                                         ['Office']   \n",
      "\n",
      "                             Sector             Sector_Group Revenue Employee  \\\n",
      "0  NGOs and Nonprofit Organizations  Nonprofit Organizations     NaN       XS   \n",
      "1  NGOs and Nonprofit Organizations  Nonprofit Organizations     NaN        M   \n",
      "2        Personal Consumer Services                    Sales    XXXS     XXXS   \n",
      "3       Banking and Credit Services                  Finance     XXL       XL   \n",
      "4       State and Regional Agencies               Government     NaN       XL   \n",
      "\n",
      "  Company_Score  Reviews                              Director Director_Score  \\\n",
      "0           4.2     20.0                                   NaN            NaN   \n",
      "1           3.5     58.0  Peter Goldberger, Executive Director           0.70   \n",
      "2           3.4     88.0                                   NaN            NaN   \n",
      "3           3.8     30.0                            Tom Barkin           0.70   \n",
      "4           4.2    186.0                          Debra Duardo           0.85   \n",
      "\n",
      "                                 URL  \n",
      "0  https://www.sandyhookpromise.org/  \n",
      "1                                NaN  \n",
      "2                                NaN  \n",
      "3       https://www.richmondfed.org/  \n",
      "4                                NaN  \n",
      "\n",
      "[5 rows x 21 columns]\n"
     ]
    }
   ],
   "source": [
    "# Display dataset structure and basic information\n",
    "print(\"Dataset Overview:\")\n",
    "print(train.head())"
   ]
  },
  {
   "cell_type": "markdown",
   "metadata": {},
   "source": []
  },
  {
   "cell_type": "code",
   "execution_count": 1918,
   "metadata": {},
   "outputs": [
    {
     "name": "stdout",
     "output_type": "stream",
     "text": [
      "\n",
      "Dataset Info:\n",
      "<class 'pandas.core.frame.DataFrame'>\n",
      "RangeIndex: 33248 entries, 0 to 33247\n",
      "Data columns (total 21 columns):\n",
      " #   Column            Non-Null Count  Dtype  \n",
      "---  ------            --------------  -----  \n",
      " 0   ID                33248 non-null  object \n",
      " 1   Job               33248 non-null  object \n",
      " 2   Jobs_Group        33248 non-null  object \n",
      " 3   Profile           12141 non-null  object \n",
      " 4   Remote            13929 non-null  object \n",
      " 5   Company           33239 non-null  object \n",
      " 6   Location          33235 non-null  object \n",
      " 7   City              29424 non-null  object \n",
      " 8   State             30136 non-null  object \n",
      " 9   Frecuency_Salary  33248 non-null  object \n",
      " 10  Mean_Salary       33248 non-null  float64\n",
      " 11  Skills            33248 non-null  object \n",
      " 12  Sector            26034 non-null  object \n",
      " 13  Sector_Group      26034 non-null  object \n",
      " 14  Revenue           14930 non-null  object \n",
      " 15  Employee          20449 non-null  object \n",
      " 16  Company_Score     24486 non-null  float64\n",
      " 17  Reviews           24486 non-null  float64\n",
      " 18  Director          12463 non-null  object \n",
      " 19  Director_Score    11324 non-null  float64\n",
      " 20  URL               17215 non-null  object \n",
      "dtypes: float64(4), object(17)\n",
      "memory usage: 5.3+ MB\n",
      "None\n"
     ]
    }
   ],
   "source": [
    "print(\"\\nDataset Info:\")\n",
    "print(train.info())"
   ]
  },
  {
   "cell_type": "markdown",
   "metadata": {},
   "source": [
    "# 2. Exploratory Data Analysis (EDA)"
   ]
  },
  {
   "cell_type": "code",
   "execution_count": 1919,
   "metadata": {},
   "outputs": [
    {
     "name": "stdout",
     "output_type": "stream",
     "text": [
      "\n",
      "Statistical Summary:\n",
      "         Mean_Salary  Company_Score        Reviews  Director_Score\n",
      "count   33248.000000   24486.000000   24486.000000    11324.000000\n",
      "mean   104938.652004       3.659287    2724.875398        0.748707\n",
      "std     43891.461738       0.629555   13336.396863        0.110831\n",
      "min      9200.000000       1.000000       1.000000        0.060000\n",
      "25%     75000.000000       3.400000      13.000000        0.680000\n",
      "50%     96600.000000       3.700000     117.000000        0.780000\n",
      "75%    125000.000000       4.000000     960.000000        0.830000\n",
      "max    585000.000000       5.000000  247915.000000        1.000000\n"
     ]
    }
   ],
   "source": [
    "# Basic statistical summary of numerical features\n",
    "print(\"\\nStatistical Summary:\")\n",
    "print(train.describe())"
   ]
  },
  {
   "cell_type": "code",
   "execution_count": 1920,
   "metadata": {},
   "outputs": [
    {
     "data": {
      "image/png": "[encoded data removed]",
      "text/plain": [
       "<Figure size 1000x600 with 1 Axes>"
      ]
     },
     "metadata": {},
     "output_type": "display_data"
    }
   ],
   "source": [
    "# Visualizing target variable (salary)\n",
    "plt.figure(figsize=(10, 6))\n",
    "sns.histplot(train['Mean_Salary'], kde=True, bins=30)\n",
    "plt.title('Distribution of Salary')\n",
    "plt.xlabel('Salary')\n",
    "plt.ylabel('Frequency')\n",
    "plt.show()"
   ]
  },
  {
   "cell_type": "code",
   "execution_count": 1921,
   "metadata": {},
   "outputs": [
    {
     "name": "stdout",
     "output_type": "stream",
     "text": [
      "\n",
      "Missing Values:\n",
      "ID                      0\n",
      "Job                     0\n",
      "Jobs_Group              0\n",
      "Profile             21107\n",
      "Remote              19319\n",
      "Company                 9\n",
      "Location               13\n",
      "City                 3824\n",
      "State                3112\n",
      "Frecuency_Salary        0\n",
      "Mean_Salary             0\n",
      "Skills                  0\n",
      "Sector               7214\n",
      "Sector_Group         7214\n",
      "Revenue             18318\n",
      "Employee            12799\n",
      "Company_Score        8762\n",
      "Reviews              8762\n",
      "Director            20785\n",
      "Director_Score      21924\n",
      "URL                 16033\n",
      "dtype: int64\n"
     ]
    }
   ],
   "source": [
    "# Identify all columns and missing values\n",
    "print(\"\\nMissing Values:\")\n",
    "print(train.isnull().sum())"
   ]
  },
  {
   "cell_type": "code",
   "execution_count": 1922,
   "metadata": {},
   "outputs": [
    {
     "name": "stdout",
     "output_type": "stream",
     "text": [
      "\n",
      "Missing Values:\n",
      "ID                      0\n",
      "Job                     0\n",
      "Jobs_Group              0\n",
      "Profile             14061\n",
      "Remote              12822\n",
      "Company                10\n",
      "Location                8\n",
      "City                 2625\n",
      "State                2119\n",
      "Frecuency_Salary        0\n",
      "Skills                  0\n",
      "Sector               4735\n",
      "Sector_Group         4735\n",
      "Revenue             12022\n",
      "Employee             8418\n",
      "Company_Score        5828\n",
      "Reviews              5828\n",
      "Director            13661\n",
      "Director_Score      14464\n",
      "URL                 10519\n",
      "dtype: int64\n"
     ]
    }
   ],
   "source": [
    "# Identify all columns and missing values in test\n",
    "print(\"\\nMissing Values:\")\n",
    "print(test.isnull().sum())"
   ]
  },
  {
   "cell_type": "code",
   "execution_count": 1923,
   "metadata": {},
   "outputs": [
    {
     "name": "stdout",
     "output_type": "stream",
     "text": [
      "\n",
      "Columns with Missing Values:\n",
      "Series([], dtype: int64)\n"
     ]
    }
   ],
   "source": [
    "# Identify only columns with missing values\n",
    "missing_data = data.isnull().sum()\n",
    "print(\"\\nColumns with Missing Values:\")\n",
    "print(missing_data[missing_data > 0])"
   ]
  },
  {
   "cell_type": "markdown",
   "metadata": {},
   "source": [
    "# 3. Data Cleaning for numeric columns (before encoding to avoid mean on ohe)"
   ]
  },
  {
   "cell_type": "code",
   "execution_count": 1924,
   "metadata": {},
   "outputs": [
    {
     "name": "stdout",
     "output_type": "stream",
     "text": [
      "Index(['Company_Score', 'Reviews', 'Director_Score'], dtype='object')\n"
     ]
    }
   ],
   "source": [
    "# Identify numerical columns for train and test\n",
    "train_numerical_cols = train.select_dtypes(include=['int64', 'float64']).columns\n",
    "test_numerical_cols = test.select_dtypes(include=['int64', 'float64']).columns\n",
    "\n",
    "print(test_numerical_cols)"
   ]
  },
  {
   "cell_type": "code",
   "execution_count": 1925,
   "metadata": {},
   "outputs": [
    {
     "name": "stdout",
     "output_type": "stream",
     "text": [
      "Imputed Train Data:\n"
     ]
    },
    {
     "data": {
      "text/html": [
       "<div>\n",
       "<style scoped>\n",
       "    .dataframe tbody tr th:only-of-type {\n",
       "        vertical-align: middle;\n",
       "    }\n",
       "\n",
       "    .dataframe tbody tr th {\n",
       "        vertical-align: top;\n",
       "    }\n",
       "\n",
       "    .dataframe thead th {\n",
       "        text-align: right;\n",
       "    }\n",
       "</style>\n",
       "<table border=\"1\" class=\"dataframe\">\n",
       "  <thead>\n",
       "    <tr style=\"text-align: right;\">\n",
       "      <th></th>\n",
       "      <th>ID</th>\n",
       "      <th>Job</th>\n",
       "      <th>Jobs_Group</th>\n",
       "      <th>Profile</th>\n",
       "      <th>Remote</th>\n",
       "      <th>Company</th>\n",
       "      <th>Location</th>\n",
       "      <th>City</th>\n",
       "      <th>State</th>\n",
       "      <th>Frecuency_Salary</th>\n",
       "      <th>...</th>\n",
       "      <th>Skills</th>\n",
       "      <th>Sector</th>\n",
       "      <th>Sector_Group</th>\n",
       "      <th>Revenue</th>\n",
       "      <th>Employee</th>\n",
       "      <th>Company_Score</th>\n",
       "      <th>Reviews</th>\n",
       "      <th>Director</th>\n",
       "      <th>Director_Score</th>\n",
       "      <th>URL</th>\n",
       "    </tr>\n",
       "  </thead>\n",
       "  <tbody>\n",
       "    <tr>\n",
       "      <th>0</th>\n",
       "      <td>job_f2c807527f687b96</td>\n",
       "      <td>Part-time Reporting Business Analyst, Data &amp; A...</td>\n",
       "      <td>Financial Analyst</td>\n",
       "      <td>NaN</td>\n",
       "      <td>Remote</td>\n",
       "      <td>Sandy Hook Promise Foundation</td>\n",
       "      <td>Remote</td>\n",
       "      <td>NaN</td>\n",
       "      <td>NaN</td>\n",
       "      <td>hour</td>\n",
       "      <td>...</td>\n",
       "      <td>['Salesforce', 'Bachelor']</td>\n",
       "      <td>NGOs and Nonprofit Organizations</td>\n",
       "      <td>Nonprofit Organizations</td>\n",
       "      <td>NaN</td>\n",
       "      <td>XS</td>\n",
       "      <td>4.2</td>\n",
       "      <td>20.0</td>\n",
       "      <td>NaN</td>\n",
       "      <td>0.748707</td>\n",
       "      <td>https://www.sandyhookpromise.org/</td>\n",
       "    </tr>\n",
       "    <tr>\n",
       "      <th>1</th>\n",
       "      <td>job_2660d4c53505af10</td>\n",
       "      <td>Controller</td>\n",
       "      <td>Controller</td>\n",
       "      <td>NaN</td>\n",
       "      <td>NaN</td>\n",
       "      <td>Building Service 32BJ Benefit Funds</td>\n",
       "      <td>New York, NY 10013 (Tribeca area)</td>\n",
       "      <td>New York</td>\n",
       "      <td>NY</td>\n",
       "      <td>year</td>\n",
       "      <td>...</td>\n",
       "      <td>['SQL', 'Master', 'Dynamics 365', 'Snowflake',...</td>\n",
       "      <td>NGOs and Nonprofit Organizations</td>\n",
       "      <td>Nonprofit Organizations</td>\n",
       "      <td>NaN</td>\n",
       "      <td>M</td>\n",
       "      <td>3.5</td>\n",
       "      <td>58.0</td>\n",
       "      <td>Peter Goldberger, Executive Director</td>\n",
       "      <td>0.700000</td>\n",
       "      <td>NaN</td>\n",
       "    </tr>\n",
       "    <tr>\n",
       "      <th>2</th>\n",
       "      <td>sj_50358c44328ae06a</td>\n",
       "      <td>Sr Finance Analyst</td>\n",
       "      <td>Financial Analyst</td>\n",
       "      <td>Senior</td>\n",
       "      <td>NaN</td>\n",
       "      <td>LCS</td>\n",
       "      <td>NaN</td>\n",
       "      <td>NaN</td>\n",
       "      <td>NaN</td>\n",
       "      <td>year</td>\n",
       "      <td>...</td>\n",
       "      <td>['Word', 'Bachelor', 'Excel']</td>\n",
       "      <td>Personal Consumer Services</td>\n",
       "      <td>Sales</td>\n",
       "      <td>XXXS</td>\n",
       "      <td>XXXS</td>\n",
       "      <td>3.4</td>\n",
       "      <td>88.0</td>\n",
       "      <td>NaN</td>\n",
       "      <td>0.748707</td>\n",
       "      <td>NaN</td>\n",
       "    </tr>\n",
       "    <tr>\n",
       "      <th>3</th>\n",
       "      <td>job_a087fd700e3e85f0</td>\n",
       "      <td>Senior Business Intelligence Analyst</td>\n",
       "      <td>Business Intelligence</td>\n",
       "      <td>Senior</td>\n",
       "      <td>Hybrid</td>\n",
       "      <td>Federal Reserve Bank of Richmond</td>\n",
       "      <td>Richmond, VA 23219 (Central Office area)</td>\n",
       "      <td>Richmond</td>\n",
       "      <td>VA</td>\n",
       "      <td>year</td>\n",
       "      <td>...</td>\n",
       "      <td>['PowerPoint', 'Power BI', 'Tableau', 'Word', ...</td>\n",
       "      <td>Banking and Credit Services</td>\n",
       "      <td>Finance</td>\n",
       "      <td>XXL</td>\n",
       "      <td>XL</td>\n",
       "      <td>3.8</td>\n",
       "      <td>30.0</td>\n",
       "      <td>Tom Barkin</td>\n",
       "      <td>0.700000</td>\n",
       "      <td>https://www.richmondfed.org/</td>\n",
       "    </tr>\n",
       "    <tr>\n",
       "      <th>4</th>\n",
       "      <td>job_d2a2538a2c4d2033</td>\n",
       "      <td>Data Center Operations Analyst (Temporary Assi...</td>\n",
       "      <td>Operations Analyst</td>\n",
       "      <td>NaN</td>\n",
       "      <td>Remote</td>\n",
       "      <td>Los Angeles County Office of Education</td>\n",
       "      <td>Downey, CA 90242+1 ubicación</td>\n",
       "      <td>Downey</td>\n",
       "      <td>CA</td>\n",
       "      <td>hour</td>\n",
       "      <td>...</td>\n",
       "      <td>['Office']</td>\n",
       "      <td>State and Regional Agencies</td>\n",
       "      <td>Government</td>\n",
       "      <td>NaN</td>\n",
       "      <td>XL</td>\n",
       "      <td>4.2</td>\n",
       "      <td>186.0</td>\n",
       "      <td>Debra Duardo</td>\n",
       "      <td>0.850000</td>\n",
       "      <td>NaN</td>\n",
       "    </tr>\n",
       "  </tbody>\n",
       "</table>\n",
       "<p>5 rows × 21 columns</p>\n",
       "</div>"
      ],
      "text/plain": [
       "                     ID                                                Job  \\\n",
       "0  job_f2c807527f687b96  Part-time Reporting Business Analyst, Data & A...   \n",
       "1  job_2660d4c53505af10                                         Controller   \n",
       "2   sj_50358c44328ae06a                                 Sr Finance Analyst   \n",
       "3  job_a087fd700e3e85f0               Senior Business Intelligence Analyst   \n",
       "4  job_d2a2538a2c4d2033  Data Center Operations Analyst (Temporary Assi...   \n",
       "\n",
       "              Jobs_Group Profile  Remote  \\\n",
       "0      Financial Analyst     NaN  Remote   \n",
       "1             Controller     NaN     NaN   \n",
       "2      Financial Analyst  Senior     NaN   \n",
       "3  Business Intelligence  Senior  Hybrid   \n",
       "4     Operations Analyst     NaN  Remote   \n",
       "\n",
       "                                  Company  \\\n",
       "0           Sandy Hook Promise Foundation   \n",
       "1     Building Service 32BJ Benefit Funds   \n",
       "2                                     LCS   \n",
       "3        Federal Reserve Bank of Richmond   \n",
       "4  Los Angeles County Office of Education   \n",
       "\n",
       "                                   Location      City State Frecuency_Salary  \\\n",
       "0                                    Remote       NaN   NaN             hour   \n",
       "1         New York, NY 10013 (Tribeca area)  New York    NY             year   \n",
       "2                                       NaN       NaN   NaN             year   \n",
       "3  Richmond, VA 23219 (Central Office area)  Richmond    VA             year   \n",
       "4              Downey, CA 90242+1 ubicación    Downey    CA             hour   \n",
       "\n",
       "   ...                                             Skills  \\\n",
       "0  ...                         ['Salesforce', 'Bachelor']   \n",
       "1  ...  ['SQL', 'Master', 'Dynamics 365', 'Snowflake',...   \n",
       "2  ...                      ['Word', 'Bachelor', 'Excel']   \n",
       "3  ...  ['PowerPoint', 'Power BI', 'Tableau', 'Word', ...   \n",
       "4  ...                                         ['Office']   \n",
       "\n",
       "                             Sector             Sector_Group Revenue Employee  \\\n",
       "0  NGOs and Nonprofit Organizations  Nonprofit Organizations     NaN       XS   \n",
       "1  NGOs and Nonprofit Organizations  Nonprofit Organizations     NaN        M   \n",
       "2        Personal Consumer Services                    Sales    XXXS     XXXS   \n",
       "3       Banking and Credit Services                  Finance     XXL       XL   \n",
       "4       State and Regional Agencies               Government     NaN       XL   \n",
       "\n",
       "  Company_Score  Reviews                              Director Director_Score  \\\n",
       "0           4.2     20.0                                   NaN       0.748707   \n",
       "1           3.5     58.0  Peter Goldberger, Executive Director       0.700000   \n",
       "2           3.4     88.0                                   NaN       0.748707   \n",
       "3           3.8     30.0                            Tom Barkin       0.700000   \n",
       "4           4.2    186.0                          Debra Duardo       0.850000   \n",
       "\n",
       "                                 URL  \n",
       "0  https://www.sandyhookpromise.org/  \n",
       "1                                NaN  \n",
       "2                                NaN  \n",
       "3       https://www.richmondfed.org/  \n",
       "4                                NaN  \n",
       "\n",
       "[5 rows x 21 columns]"
      ]
     },
     "execution_count": 1925,
     "metadata": {},
     "output_type": "execute_result"
    }
   ],
   "source": [
    "# Function to impute missing values for numerical columns\n",
    "def impute_numeric_col(data, numerical_cols):\n",
    "    \"\"\"\n",
    "    Impute missing values in the specified numerical columns of a DataFrame with the mean.\n",
    "\n",
    "    Parameters:\n",
    "        data (pd.DataFrame): The DataFrame containing numerical columns.\n",
    "        numerical_cols (list): List of numerical column names to impute.\n",
    "\n",
    "    Returns:\n",
    "        pd.DataFrame: The DataFrame with imputed numerical columns.\n",
    "    \"\"\"\n",
    "    numerical_imputer = SimpleImputer(strategy='mean')\n",
    "    data[numerical_cols] = numerical_imputer.fit_transform(data[numerical_cols])\n",
    "    return data\n",
    "\n",
    "# Identify numerical columns for train and test\n",
    "train_numerical_cols = train.select_dtypes(include=['int64', 'float64']).columns\n",
    "test_numerical_cols = test.select_dtypes(include=['int64', 'float64']).columns\n",
    "\n",
    "# Impute missing values for train and test numerical columns\n",
    "train = impute_numeric_col(train, train_numerical_cols)\n",
    "test = impute_numeric_col(test, test_numerical_cols)\n",
    "\n",
    "# Display the results\n",
    "print(\"Imputed Train Data:\")\n",
    "train.head()"
   ]
  },
  {
   "cell_type": "code",
   "execution_count": 1926,
   "metadata": {},
   "outputs": [
    {
     "name": "stdout",
     "output_type": "stream",
     "text": [
      "\n",
      "Imputed Test Data:\n"
     ]
    },
    {
     "data": {
      "text/html": [
       "<div>\n",
       "<style scoped>\n",
       "    .dataframe tbody tr th:only-of-type {\n",
       "        vertical-align: middle;\n",
       "    }\n",
       "\n",
       "    .dataframe tbody tr th {\n",
       "        vertical-align: top;\n",
       "    }\n",
       "\n",
       "    .dataframe thead th {\n",
       "        text-align: right;\n",
       "    }\n",
       "</style>\n",
       "<table border=\"1\" class=\"dataframe\">\n",
       "  <thead>\n",
       "    <tr style=\"text-align: right;\">\n",
       "      <th></th>\n",
       "      <th>ID</th>\n",
       "      <th>Job</th>\n",
       "      <th>Jobs_Group</th>\n",
       "      <th>Profile</th>\n",
       "      <th>Remote</th>\n",
       "      <th>Company</th>\n",
       "      <th>Location</th>\n",
       "      <th>City</th>\n",
       "      <th>State</th>\n",
       "      <th>Frecuency_Salary</th>\n",
       "      <th>Skills</th>\n",
       "      <th>Sector</th>\n",
       "      <th>Sector_Group</th>\n",
       "      <th>Revenue</th>\n",
       "      <th>Employee</th>\n",
       "      <th>Company_Score</th>\n",
       "      <th>Reviews</th>\n",
       "      <th>Director</th>\n",
       "      <th>Director_Score</th>\n",
       "      <th>URL</th>\n",
       "    </tr>\n",
       "  </thead>\n",
       "  <tbody>\n",
       "    <tr>\n",
       "      <th>0</th>\n",
       "      <td>sj_99ad4f80ae7f4835</td>\n",
       "      <td>Business Analyst Manager</td>\n",
       "      <td>Business Analyst</td>\n",
       "      <td>Lead</td>\n",
       "      <td>Remote</td>\n",
       "      <td>Dryden Mutual Insurance Company</td>\n",
       "      <td>Dryden, NY 13053</td>\n",
       "      <td>Dryden</td>\n",
       "      <td>NY</td>\n",
       "      <td>year</td>\n",
       "      <td>['PowerPoint', 'Office', 'Excel', 'Agile']</td>\n",
       "      <td>Insurance Companies and Investment Societies</td>\n",
       "      <td>Insurance</td>\n",
       "      <td>NaN</td>\n",
       "      <td>NaN</td>\n",
       "      <td>5.000000</td>\n",
       "      <td>2.000000</td>\n",
       "      <td>NaN</td>\n",
       "      <td>0.746766</td>\n",
       "      <td>NaN</td>\n",
       "    </tr>\n",
       "    <tr>\n",
       "      <th>1</th>\n",
       "      <td>job_6ff7f1a7c400916a</td>\n",
       "      <td>Senior Program Budget Analyst</td>\n",
       "      <td>Financial Analyst</td>\n",
       "      <td>Senior</td>\n",
       "      <td>NaN</td>\n",
       "      <td>Esphera Concepts</td>\n",
       "      <td>Washington, DC+1 location</td>\n",
       "      <td>Washington</td>\n",
       "      <td>DC</td>\n",
       "      <td>year</td>\n",
       "      <td>['PowerPoint', 'Master', 'Word', 'Bachelor', '...</td>\n",
       "      <td>Management and Consulting</td>\n",
       "      <td>Consulting</td>\n",
       "      <td>NaN</td>\n",
       "      <td>XS</td>\n",
       "      <td>3.654609</td>\n",
       "      <td>2593.057045</td>\n",
       "      <td>NaN</td>\n",
       "      <td>0.746766</td>\n",
       "      <td>https://www.espheraconcepts.com/</td>\n",
       "    </tr>\n",
       "    <tr>\n",
       "      <th>2</th>\n",
       "      <td>job_e059d20eba88b17a</td>\n",
       "      <td>Senior AI Engineer - Multi-year CONTRACT ROLE ...</td>\n",
       "      <td>ML/AI Engineer</td>\n",
       "      <td>Senior</td>\n",
       "      <td>Hybrid</td>\n",
       "      <td>Volkswagen Group of America - Chattanooga...</td>\n",
       "      <td>Belmont, CA</td>\n",
       "      <td>Belmont</td>\n",
       "      <td>CA</td>\n",
       "      <td>year</td>\n",
       "      <td>['Tensor Flow', 'Python', 'Master', 'PhD', 'C+...</td>\n",
       "      <td>NaN</td>\n",
       "      <td>NaN</td>\n",
       "      <td>NaN</td>\n",
       "      <td>NaN</td>\n",
       "      <td>3.654609</td>\n",
       "      <td>2593.057045</td>\n",
       "      <td>NaN</td>\n",
       "      <td>0.746766</td>\n",
       "      <td>NaN</td>\n",
       "    </tr>\n",
       "    <tr>\n",
       "      <th>3</th>\n",
       "      <td>job_79f7953813b13358</td>\n",
       "      <td>Data Scientist, Algorithmic Recommendations</td>\n",
       "      <td>Data Scientist</td>\n",
       "      <td>NaN</td>\n",
       "      <td>Remote</td>\n",
       "      <td>The New York Times</td>\n",
       "      <td>Remote</td>\n",
       "      <td>NaN</td>\n",
       "      <td>NaN</td>\n",
       "      <td>year</td>\n",
       "      <td>['Google Cloud', 'Python', 'SQL', 'PhD']</td>\n",
       "      <td>Audiovisual and Media Communications</td>\n",
       "      <td>Media Communications</td>\n",
       "      <td>XL</td>\n",
       "      <td>XL</td>\n",
       "      <td>4.000000</td>\n",
       "      <td>275.000000</td>\n",
       "      <td>Meredith Kopit Levien</td>\n",
       "      <td>0.780000</td>\n",
       "      <td>https://www.nytimes.com/</td>\n",
       "    </tr>\n",
       "    <tr>\n",
       "      <th>4</th>\n",
       "      <td>job_892dfe86b96f322b</td>\n",
       "      <td>Management &amp; Budget Analyst-Finance</td>\n",
       "      <td>Financial Analyst</td>\n",
       "      <td>NaN</td>\n",
       "      <td>NaN</td>\n",
       "      <td>Metropolitan Government of Nashville &amp; Davidso...</td>\n",
       "      <td>Nashville, TN</td>\n",
       "      <td>Nashville</td>\n",
       "      <td>TN</td>\n",
       "      <td>year</td>\n",
       "      <td>['PowerPoint', 'Master', 'Word', 'Excel', 'Bac...</td>\n",
       "      <td>NaN</td>\n",
       "      <td>NaN</td>\n",
       "      <td>NaN</td>\n",
       "      <td>NaN</td>\n",
       "      <td>3.654609</td>\n",
       "      <td>2593.057045</td>\n",
       "      <td>NaN</td>\n",
       "      <td>0.746766</td>\n",
       "      <td>NaN</td>\n",
       "    </tr>\n",
       "  </tbody>\n",
       "</table>\n",
       "</div>"
      ],
      "text/plain": [
       "                     ID                                                Job  \\\n",
       "0   sj_99ad4f80ae7f4835                           Business Analyst Manager   \n",
       "1  job_6ff7f1a7c400916a                      Senior Program Budget Analyst   \n",
       "2  job_e059d20eba88b17a  Senior AI Engineer - Multi-year CONTRACT ROLE ...   \n",
       "3  job_79f7953813b13358        Data Scientist, Algorithmic Recommendations   \n",
       "4  job_892dfe86b96f322b                Management & Budget Analyst-Finance   \n",
       "\n",
       "          Jobs_Group Profile  Remote  \\\n",
       "0   Business Analyst    Lead  Remote   \n",
       "1  Financial Analyst  Senior     NaN   \n",
       "2     ML/AI Engineer  Senior  Hybrid   \n",
       "3     Data Scientist     NaN  Remote   \n",
       "4  Financial Analyst     NaN     NaN   \n",
       "\n",
       "                                             Company  \\\n",
       "0                    Dryden Mutual Insurance Company   \n",
       "1                                   Esphera Concepts   \n",
       "2       Volkswagen Group of America - Chattanooga...   \n",
       "3                                 The New York Times   \n",
       "4  Metropolitan Government of Nashville & Davidso...   \n",
       "\n",
       "                    Location        City State Frecuency_Salary  \\\n",
       "0           Dryden, NY 13053      Dryden    NY             year   \n",
       "1  Washington, DC+1 location  Washington    DC             year   \n",
       "2                Belmont, CA     Belmont    CA             year   \n",
       "3                     Remote         NaN   NaN             year   \n",
       "4              Nashville, TN   Nashville    TN             year   \n",
       "\n",
       "                                              Skills  \\\n",
       "0         ['PowerPoint', 'Office', 'Excel', 'Agile']   \n",
       "1  ['PowerPoint', 'Master', 'Word', 'Bachelor', '...   \n",
       "2  ['Tensor Flow', 'Python', 'Master', 'PhD', 'C+...   \n",
       "3           ['Google Cloud', 'Python', 'SQL', 'PhD']   \n",
       "4  ['PowerPoint', 'Master', 'Word', 'Excel', 'Bac...   \n",
       "\n",
       "                                         Sector          Sector_Group Revenue  \\\n",
       "0  Insurance Companies and Investment Societies             Insurance     NaN   \n",
       "1                     Management and Consulting            Consulting     NaN   \n",
       "2                                           NaN                   NaN     NaN   \n",
       "3          Audiovisual and Media Communications  Media Communications      XL   \n",
       "4                                           NaN                   NaN     NaN   \n",
       "\n",
       "  Employee  Company_Score      Reviews               Director  Director_Score  \\\n",
       "0      NaN       5.000000     2.000000                    NaN        0.746766   \n",
       "1       XS       3.654609  2593.057045                    NaN        0.746766   \n",
       "2      NaN       3.654609  2593.057045                    NaN        0.746766   \n",
       "3       XL       4.000000   275.000000  Meredith Kopit Levien        0.780000   \n",
       "4      NaN       3.654609  2593.057045                    NaN        0.746766   \n",
       "\n",
       "                                URL  \n",
       "0                               NaN  \n",
       "1  https://www.espheraconcepts.com/  \n",
       "2                               NaN  \n",
       "3          https://www.nytimes.com/  \n",
       "4                               NaN  "
      ]
     },
     "execution_count": 1926,
     "metadata": {},
     "output_type": "execute_result"
    }
   ],
   "source": [
    "\n",
    "print(\"\\nImputed Test Data:\")\n",
    "test.head()"
   ]
  },
  {
   "cell_type": "code",
   "execution_count": 1927,
   "metadata": {},
   "outputs": [
    {
     "name": "stdout",
     "output_type": "stream",
     "text": [
      "Mean_Salary       0\n",
      "Company_Score     0\n",
      "Reviews           0\n",
      "Director_Score    0\n",
      "dtype: int64\n",
      "Company_Score     0\n",
      "Reviews           0\n",
      "Director_Score    0\n",
      "dtype: int64\n"
     ]
    }
   ],
   "source": [
    "# Check imputatoin of mean worked\n",
    "\n",
    "train_numerical_cols = train.select_dtypes(include=['int64', 'float64']).columns\n",
    "test_numerical_cols = test.select_dtypes(include=['int64', 'float64']).columns\n",
    "\n",
    "print(train[train_numerical_cols].isnull().sum())\n",
    "print(test[test_numerical_cols].isnull().sum())"
   ]
  },
  {
   "cell_type": "markdown",
   "metadata": {},
   "source": [
    "# 3. Feature Selection (Put back in below randomforest feature selectoin dont delete)"
   ]
  },
  {
   "cell_type": "code",
   "execution_count": 1928,
   "metadata": {},
   "outputs": [],
   "source": [
    "# Separate features and target\n",
    "X = train.drop(columns=['Mean_Salary'])  # Features\n",
    "y = train['Mean_Salary']                # Target variable"
   ]
  },
  {
   "cell_type": "markdown",
   "metadata": {},
   "source": [
    "from sklearn.ensemble import RandomForestRegressor\n",
    "from sklearn.feature_selection import RFE\n",
    "from sklearn.linear_model import LinearRegression\n",
    "\n",
    "# Encode categorical variables temporarily\n",
    "X_encoded = X.copy()\n",
    "for col in X_encoded.select_dtypes(include=['object']).columns:\n",
    "    X_encoded[col], _ = X_encoded[col].factorize()\n",
    "\n",
    "# Train a Random Forest model\n",
    "rf = RandomForestRegressor(random_state=42)\n",
    "rf.fit(X_encoded, y)\n",
    "\n",
    "# Get feature importance scores\n",
    "feature_importances = pd.Series(rf.feature_importances_, index=X.columns).sort_values(ascending=False)\n",
    "\n",
    "# Display top features\n",
    "print(\"Top Features Based on Random Forest Importance:\")\n",
    "print(feature_importances.head(20))"
   ]
  },
  {
   "cell_type": "code",
   "execution_count": 1929,
   "metadata": {},
   "outputs": [
    {
     "name": "stdout",
     "output_type": "stream",
     "text": [
      "Top Features Based on RFE:\n",
      "Frecuency_Salary     1\n",
      "Jobs_Group           1\n",
      "Profile              1\n",
      "Remote               1\n",
      "Company_Score        1\n",
      "State                1\n",
      "Director_Score       1\n",
      "Sector_Group         1\n",
      "Revenue              1\n",
      "Employee             1\n",
      "Sector               2\n",
      "City                 3\n",
      "Skills               4\n",
      "Director             5\n",
      "Company              6\n",
      "URL                  7\n",
      "Reviews              8\n",
      "Location             9\n",
      "Job                 10\n",
      "ID                  11\n",
      "dtype: int32\n"
     ]
    }
   ],
   "source": [
    "from sklearn.feature_selection import RFE\n",
    "from sklearn.linear_model import LinearRegression\n",
    "\n",
    "# Use a linear model to rank features\n",
    "lr = LinearRegression()\n",
    "rfe = RFE(estimator=lr, n_features_to_select=10)\n",
    "rfe.fit(X_encoded, y)\n",
    "\n",
    "# Get rankings of features\n",
    "rfe_ranking = pd.Series(rfe.ranking_, index=X.columns).sort_values()\n",
    "print(\"Top Features Based on RFE:\")\n",
    "print(rfe_ranking.head(20))"
   ]
  },
  {
   "cell_type": "markdown",
   "metadata": {},
   "source": [
    "# 3.1 Flatten multivalued columns"
   ]
  },
  {
   "cell_type": "code",
   "execution_count": 1930,
   "metadata": {},
   "outputs": [
    {
     "name": "stdout",
     "output_type": "stream",
     "text": [
      "ID: single\n",
      "Job: multivalue\n",
      "Jobs_Group: single\n",
      "Profile: single\n",
      "Remote: single\n",
      "Company: multivalue\n",
      "Location: multivalue\n",
      "City: single\n",
      "State: single\n",
      "Frecuency_Salary: single\n",
      "Mean_Salary: single\n",
      "Skills: multivalue\n",
      "Sector: multivalue\n",
      "Sector_Group: single\n",
      "Revenue: single\n",
      "Employee: single\n",
      "Company_Score: single\n",
      "Reviews: single\n",
      "Director: multivalue\n",
      "Director_Score: single\n",
      "URL: single\n"
     ]
    }
   ],
   "source": [
    "#check for multi or single values in rows! \n",
    "def check_column_values(data):\n",
    "    \"\"\"\n",
    "    Checks each column in a DataFrame to determine if it contains single values or multivalues.\n",
    "    \n",
    "    Parameters:\n",
    "        data (pd.DataFrame): The DataFrame to check.\n",
    "        \n",
    "    Returns:\n",
    "        str: A string listing each column and its classification ('single' or 'multivalue') on a new line.\n",
    "    \"\"\"\n",
    "    results = []\n",
    "    \n",
    "    for col in data.columns:\n",
    "        # Get unique rows for the column and analyze them\n",
    "        unique_values = data[col].dropna().unique()  # Ignore NaN\n",
    "        \n",
    "        # Check if any value in the column contains multivalues\n",
    "        is_multivalue = False\n",
    "        for value in unique_values:\n",
    "            if isinstance(value, str):  # Check if it's a string\n",
    "                # If the string contains characters indicative of multivalues (e.g., ',' or brackets)\n",
    "                if ',' in value or '[' in value or ']' in value or '{' in value or '}' in value:\n",
    "                    is_multivalue = True\n",
    "                    break\n",
    "        \n",
    "        classification = 'multivalue' if is_multivalue else 'single'\n",
    "        results.append(f\"{col}: {classification}\")\n",
    "    \n",
    "    return \"\\n\".join(results)\n",
    "\n",
    "result = check_column_values(train)\n",
    "print(result)"
   ]
  },
  {
   "cell_type": "code",
   "execution_count": 1931,
   "metadata": {},
   "outputs": [
    {
     "name": "stdout",
     "output_type": "stream",
     "text": [
      "Unique values in multivalued columns:\n",
      "Skills: 99\n",
      "Location: 12737\n",
      "Sector: 147\n",
      "Company: 14145\n",
      "Job: 18028\n",
      "Director: 2718\n"
     ]
    }
   ],
   "source": [
    "#Count the amount of unique values in multivalue columns\n",
    "def count_unique_multivalues(df, multivalue_columns):\n",
    "    \"\"\"\n",
    "    Counts unique values across multivalued columns.\n",
    "    \n",
    "    Parameters:\n",
    "        df (pd.DataFrame): The DataFrame containing multivalued columns.\n",
    "        multivalue_columns (list): List of column names to process.\n",
    "    \n",
    "    Returns:\n",
    "        dict: A dictionary with column names as keys and counts of unique values as values.\n",
    "    \"\"\"\n",
    "    unique_counts = {}\n",
    "    \n",
    "    for col in multivalue_columns:\n",
    "        # Flatten all values in the column\n",
    "        all_values = []\n",
    "        \n",
    "        for row in df[col].dropna():\n",
    "            if isinstance(row, str):  # Check if it's a string\n",
    "                # Split by common delimiters like ',' or whitespace\n",
    "                values = row.replace('[', '').replace(']', '').replace(\"'\", '').split(',')\n",
    "                all_values.extend([v.strip() for v in values])  # Strip whitespace\n",
    "            \n",
    "        # Count unique values\n",
    "        unique_counts[col] = len(set(all_values))\n",
    "    \n",
    "    return unique_counts\n",
    "\n",
    "\n",
    "# List of multivalued columns\n",
    "multivalue_columns = [\"Skills\", \"Location\", \"Sector\", \"Company\", \"Job\", \"Sector\", \"Director\"]\n",
    "\n",
    "# Get unique counts\n",
    "unique_counts = count_unique_multivalues(train, multivalue_columns)\n",
    "\n",
    "# Display results\n",
    "print(\"Unique values in multivalued columns:\")\n",
    "for col, count in unique_counts.items():\n",
    "    print(f\"{col}: {count}\")\n"
   ]
  },
  {
   "cell_type": "code",
   "execution_count": 1932,
   "metadata": {},
   "outputs": [],
   "source": [
    "#Flatten Columns you would like to based on feature selection and unique value count\n",
    "def rearrange_dataset(train, test):\n",
    "    #1.train \n",
    "    skills_list = []\n",
    "    for i in range(len(train)):\n",
    "        zip_list = train['Skills'][i].replace('[','').replace(']','').replace(\"'\",'').replace(\" \",'').split(',')\n",
    "        dict_temp = {}\n",
    "        str_ = ''\n",
    "        for j in range(len(zip_list)):\n",
    "            dict_temp[zip_list[j]] = 1\n",
    "            str_ += zip_list[j] + \" \"\n",
    "        dict_temp['skills_clean'] = str_    \n",
    "        skills_list.append(dict_temp)\n",
    "        \n",
    "    train = pd.concat([train,pd.DataFrame(skills_list).fillna(0)],axis =1)  \n",
    "\n",
    "    #1.test \n",
    "    skills_list = []\n",
    "    for i in range(len(test)):\n",
    "        zip_list = test['Skills'][i].replace('[','').replace(']','').replace(\"'\",'').replace(\" \",'').split(',')\n",
    "        dict_temp = {}\n",
    "        str_ = ''\n",
    "        for j in range(len(zip_list)):\n",
    "            dict_temp[zip_list[j]] = 1\n",
    "            str_ += zip_list[j] + \" \"\n",
    "        dict_temp['skills_clean'] = str_    \n",
    "        skills_list.append(dict_temp)\n",
    "        \n",
    "    test = pd.concat([test,pd.DataFrame(skills_list).fillna(0)],axis =1)  \n",
    "    \n",
    "    \n",
    "    return train, test"
   ]
  },
  {
   "cell_type": "code",
   "execution_count": 1933,
   "metadata": {},
   "outputs": [
    {
     "name": "stdout",
     "output_type": "stream",
     "text": [
      "CPU times: total: 172 ms\n",
      "Wall time: 569 ms\n"
     ]
    }
   ],
   "source": [
    "%%time\n",
    "train, test = rearrange_dataset(train, test)"
   ]
  },
  {
   "cell_type": "code",
   "execution_count": 1934,
   "metadata": {},
   "outputs": [
    {
     "data": {
      "text/html": [
       "<div>\n",
       "<style scoped>\n",
       "    .dataframe tbody tr th:only-of-type {\n",
       "        vertical-align: middle;\n",
       "    }\n",
       "\n",
       "    .dataframe tbody tr th {\n",
       "        vertical-align: top;\n",
       "    }\n",
       "\n",
       "    .dataframe thead th {\n",
       "        text-align: right;\n",
       "    }\n",
       "</style>\n",
       "<table border=\"1\" class=\"dataframe\">\n",
       "  <thead>\n",
       "    <tr style=\"text-align: right;\">\n",
       "      <th></th>\n",
       "      <th>Mean_Salary</th>\n",
       "      <th>Company_Score</th>\n",
       "      <th>Reviews</th>\n",
       "      <th>Director_Score</th>\n",
       "      <th>Salesforce</th>\n",
       "      <th>Bachelor</th>\n",
       "      <th>SQL</th>\n",
       "      <th>Master</th>\n",
       "      <th>Dynamics365</th>\n",
       "      <th>Snowflake</th>\n",
       "      <th>...</th>\n",
       "      <th>Japanese</th>\n",
       "      <th>Chinese</th>\n",
       "      <th>German</th>\n",
       "      <th>Sisense</th>\n",
       "      <th>Kaggle</th>\n",
       "      <th>Streamlit</th>\n",
       "      <th>Plotly</th>\n",
       "      <th>Hindi</th>\n",
       "      <th>Russian</th>\n",
       "      <th>Polars</th>\n",
       "    </tr>\n",
       "  </thead>\n",
       "  <tbody>\n",
       "    <tr>\n",
       "      <th>count</th>\n",
       "      <td>33248.000000</td>\n",
       "      <td>33248.000000</td>\n",
       "      <td>33248.000000</td>\n",
       "      <td>33248.000000</td>\n",
       "      <td>33248.000000</td>\n",
       "      <td>33248.000000</td>\n",
       "      <td>33248.000000</td>\n",
       "      <td>33248.000000</td>\n",
       "      <td>33248.00000</td>\n",
       "      <td>33248.000000</td>\n",
       "      <td>...</td>\n",
       "      <td>33248.000000</td>\n",
       "      <td>33248.000000</td>\n",
       "      <td>33248.000000</td>\n",
       "      <td>33248.000000</td>\n",
       "      <td>33248.000000</td>\n",
       "      <td>33248.000000</td>\n",
       "      <td>33248.000000</td>\n",
       "      <td>33248.000000</td>\n",
       "      <td>33248.000000</td>\n",
       "      <td>33248.000000</td>\n",
       "    </tr>\n",
       "    <tr>\n",
       "      <th>mean</th>\n",
       "      <td>104938.652004</td>\n",
       "      <td>3.659287</td>\n",
       "      <td>2724.875398</td>\n",
       "      <td>0.748707</td>\n",
       "      <td>0.031160</td>\n",
       "      <td>0.640911</td>\n",
       "      <td>0.264948</td>\n",
       "      <td>0.181545</td>\n",
       "      <td>0.01564</td>\n",
       "      <td>0.029897</td>\n",
       "      <td>...</td>\n",
       "      <td>0.001474</td>\n",
       "      <td>0.001895</td>\n",
       "      <td>0.001865</td>\n",
       "      <td>0.000692</td>\n",
       "      <td>0.000331</td>\n",
       "      <td>0.000692</td>\n",
       "      <td>0.001624</td>\n",
       "      <td>0.000150</td>\n",
       "      <td>0.000361</td>\n",
       "      <td>0.000180</td>\n",
       "    </tr>\n",
       "    <tr>\n",
       "      <th>std</th>\n",
       "      <td>43891.461738</td>\n",
       "      <td>0.540266</td>\n",
       "      <td>11444.908718</td>\n",
       "      <td>0.064679</td>\n",
       "      <td>0.173752</td>\n",
       "      <td>0.479741</td>\n",
       "      <td>0.441312</td>\n",
       "      <td>0.385475</td>\n",
       "      <td>0.12408</td>\n",
       "      <td>0.170304</td>\n",
       "      <td>...</td>\n",
       "      <td>0.038362</td>\n",
       "      <td>0.043489</td>\n",
       "      <td>0.043143</td>\n",
       "      <td>0.026293</td>\n",
       "      <td>0.018186</td>\n",
       "      <td>0.026293</td>\n",
       "      <td>0.040269</td>\n",
       "      <td>0.012262</td>\n",
       "      <td>0.018995</td>\n",
       "      <td>0.013433</td>\n",
       "    </tr>\n",
       "    <tr>\n",
       "      <th>min</th>\n",
       "      <td>9200.000000</td>\n",
       "      <td>1.000000</td>\n",
       "      <td>1.000000</td>\n",
       "      <td>0.060000</td>\n",
       "      <td>0.000000</td>\n",
       "      <td>0.000000</td>\n",
       "      <td>0.000000</td>\n",
       "      <td>0.000000</td>\n",
       "      <td>0.00000</td>\n",
       "      <td>0.000000</td>\n",
       "      <td>...</td>\n",
       "      <td>0.000000</td>\n",
       "      <td>0.000000</td>\n",
       "      <td>0.000000</td>\n",
       "      <td>0.000000</td>\n",
       "      <td>0.000000</td>\n",
       "      <td>0.000000</td>\n",
       "      <td>0.000000</td>\n",
       "      <td>0.000000</td>\n",
       "      <td>0.000000</td>\n",
       "      <td>0.000000</td>\n",
       "    </tr>\n",
       "    <tr>\n",
       "      <th>25%</th>\n",
       "      <td>75000.000000</td>\n",
       "      <td>3.500000</td>\n",
       "      <td>30.000000</td>\n",
       "      <td>0.748707</td>\n",
       "      <td>0.000000</td>\n",
       "      <td>0.000000</td>\n",
       "      <td>0.000000</td>\n",
       "      <td>0.000000</td>\n",
       "      <td>0.00000</td>\n",
       "      <td>0.000000</td>\n",
       "      <td>...</td>\n",
       "      <td>0.000000</td>\n",
       "      <td>0.000000</td>\n",
       "      <td>0.000000</td>\n",
       "      <td>0.000000</td>\n",
       "      <td>0.000000</td>\n",
       "      <td>0.000000</td>\n",
       "      <td>0.000000</td>\n",
       "      <td>0.000000</td>\n",
       "      <td>0.000000</td>\n",
       "      <td>0.000000</td>\n",
       "    </tr>\n",
       "    <tr>\n",
       "      <th>50%</th>\n",
       "      <td>96600.000000</td>\n",
       "      <td>3.659287</td>\n",
       "      <td>512.000000</td>\n",
       "      <td>0.748707</td>\n",
       "      <td>0.000000</td>\n",
       "      <td>1.000000</td>\n",
       "      <td>0.000000</td>\n",
       "      <td>0.000000</td>\n",
       "      <td>0.00000</td>\n",
       "      <td>0.000000</td>\n",
       "      <td>...</td>\n",
       "      <td>0.000000</td>\n",
       "      <td>0.000000</td>\n",
       "      <td>0.000000</td>\n",
       "      <td>0.000000</td>\n",
       "      <td>0.000000</td>\n",
       "      <td>0.000000</td>\n",
       "      <td>0.000000</td>\n",
       "      <td>0.000000</td>\n",
       "      <td>0.000000</td>\n",
       "      <td>0.000000</td>\n",
       "    </tr>\n",
       "    <tr>\n",
       "      <th>75%</th>\n",
       "      <td>125000.000000</td>\n",
       "      <td>3.900000</td>\n",
       "      <td>2724.875398</td>\n",
       "      <td>0.748707</td>\n",
       "      <td>0.000000</td>\n",
       "      <td>1.000000</td>\n",
       "      <td>1.000000</td>\n",
       "      <td>0.000000</td>\n",
       "      <td>0.00000</td>\n",
       "      <td>0.000000</td>\n",
       "      <td>...</td>\n",
       "      <td>0.000000</td>\n",
       "      <td>0.000000</td>\n",
       "      <td>0.000000</td>\n",
       "      <td>0.000000</td>\n",
       "      <td>0.000000</td>\n",
       "      <td>0.000000</td>\n",
       "      <td>0.000000</td>\n",
       "      <td>0.000000</td>\n",
       "      <td>0.000000</td>\n",
       "      <td>0.000000</td>\n",
       "    </tr>\n",
       "    <tr>\n",
       "      <th>max</th>\n",
       "      <td>585000.000000</td>\n",
       "      <td>5.000000</td>\n",
       "      <td>247915.000000</td>\n",
       "      <td>1.000000</td>\n",
       "      <td>1.000000</td>\n",
       "      <td>1.000000</td>\n",
       "      <td>1.000000</td>\n",
       "      <td>1.000000</td>\n",
       "      <td>1.00000</td>\n",
       "      <td>1.000000</td>\n",
       "      <td>...</td>\n",
       "      <td>1.000000</td>\n",
       "      <td>1.000000</td>\n",
       "      <td>1.000000</td>\n",
       "      <td>1.000000</td>\n",
       "      <td>1.000000</td>\n",
       "      <td>1.000000</td>\n",
       "      <td>1.000000</td>\n",
       "      <td>1.000000</td>\n",
       "      <td>1.000000</td>\n",
       "      <td>1.000000</td>\n",
       "    </tr>\n",
       "  </tbody>\n",
       "</table>\n",
       "<p>8 rows × 103 columns</p>\n",
       "</div>"
      ],
      "text/plain": [
       "         Mean_Salary  Company_Score        Reviews  Director_Score  \\\n",
       "count   33248.000000   33248.000000   33248.000000    33248.000000   \n",
       "mean   104938.652004       3.659287    2724.875398        0.748707   \n",
       "std     43891.461738       0.540266   11444.908718        0.064679   \n",
       "min      9200.000000       1.000000       1.000000        0.060000   \n",
       "25%     75000.000000       3.500000      30.000000        0.748707   \n",
       "50%     96600.000000       3.659287     512.000000        0.748707   \n",
       "75%    125000.000000       3.900000    2724.875398        0.748707   \n",
       "max    585000.000000       5.000000  247915.000000        1.000000   \n",
       "\n",
       "         Salesforce      Bachelor           SQL        Master  Dynamics365  \\\n",
       "count  33248.000000  33248.000000  33248.000000  33248.000000  33248.00000   \n",
       "mean       0.031160      0.640911      0.264948      0.181545      0.01564   \n",
       "std        0.173752      0.479741      0.441312      0.385475      0.12408   \n",
       "min        0.000000      0.000000      0.000000      0.000000      0.00000   \n",
       "25%        0.000000      0.000000      0.000000      0.000000      0.00000   \n",
       "50%        0.000000      1.000000      0.000000      0.000000      0.00000   \n",
       "75%        0.000000      1.000000      1.000000      0.000000      0.00000   \n",
       "max        1.000000      1.000000      1.000000      1.000000      1.00000   \n",
       "\n",
       "          Snowflake  ...      Japanese       Chinese        German  \\\n",
       "count  33248.000000  ...  33248.000000  33248.000000  33248.000000   \n",
       "mean       0.029897  ...      0.001474      0.001895      0.001865   \n",
       "std        0.170304  ...      0.038362      0.043489      0.043143   \n",
       "min        0.000000  ...      0.000000      0.000000      0.000000   \n",
       "25%        0.000000  ...      0.000000      0.000000      0.000000   \n",
       "50%        0.000000  ...      0.000000      0.000000      0.000000   \n",
       "75%        0.000000  ...      0.000000      0.000000      0.000000   \n",
       "max        1.000000  ...      1.000000      1.000000      1.000000   \n",
       "\n",
       "            Sisense        Kaggle     Streamlit        Plotly         Hindi  \\\n",
       "count  33248.000000  33248.000000  33248.000000  33248.000000  33248.000000   \n",
       "mean       0.000692      0.000331      0.000692      0.001624      0.000150   \n",
       "std        0.026293      0.018186      0.026293      0.040269      0.012262   \n",
       "min        0.000000      0.000000      0.000000      0.000000      0.000000   \n",
       "25%        0.000000      0.000000      0.000000      0.000000      0.000000   \n",
       "50%        0.000000      0.000000      0.000000      0.000000      0.000000   \n",
       "75%        0.000000      0.000000      0.000000      0.000000      0.000000   \n",
       "max        1.000000      1.000000      1.000000      1.000000      1.000000   \n",
       "\n",
       "            Russian        Polars  \n",
       "count  33248.000000  33248.000000  \n",
       "mean       0.000361      0.000180  \n",
       "std        0.018995      0.013433  \n",
       "min        0.000000      0.000000  \n",
       "25%        0.000000      0.000000  \n",
       "50%        0.000000      0.000000  \n",
       "75%        0.000000      0.000000  \n",
       "max        1.000000      1.000000  \n",
       "\n",
       "[8 rows x 103 columns]"
      ]
     },
     "execution_count": 1934,
     "metadata": {},
     "output_type": "execute_result"
    }
   ],
   "source": [
    "train.describe()"
   ]
  },
  {
   "cell_type": "code",
   "execution_count": 1935,
   "metadata": {},
   "outputs": [
    {
     "data": {
      "text/plain": [
       "<bound method NDFrame.describe of                          ID  \\\n",
       "0       sj_99ad4f80ae7f4835   \n",
       "1      job_6ff7f1a7c400916a   \n",
       "2      job_e059d20eba88b17a   \n",
       "3      job_79f7953813b13358   \n",
       "4      job_892dfe86b96f322b   \n",
       "...                     ...   \n",
       "22161  job_4ab2e5201b60cc15   \n",
       "22162  job_b3a7cf40a22659ef   \n",
       "22163  job_4e69acaf903b0276   \n",
       "22164  job_816f279ea500ecd0   \n",
       "22165  job_9861d87455c4a6a6   \n",
       "\n",
       "                                                     Job         Jobs_Group  \\\n",
       "0                               Business Analyst Manager   Business Analyst   \n",
       "1                          Senior Program Budget Analyst  Financial Analyst   \n",
       "2      Senior AI Engineer - Multi-year CONTRACT ROLE ...     ML/AI Engineer   \n",
       "3            Data Scientist, Algorithmic Recommendations     Data Scientist   \n",
       "4                    Management & Budget Analyst-Finance  Financial Analyst   \n",
       "...                                                  ...                ...   \n",
       "22161                                         Controller         Controller   \n",
       "22162                           Senior Financial Analyst  Financial Analyst   \n",
       "22163                              Cybersecurity Analyst            Analyst   \n",
       "22164                                     Data Scientist     Data Scientist   \n",
       "22165                        Senior AI Engineer - Remote     ML/AI Engineer   \n",
       "\n",
       "      Profile  Remote                                            Company  \\\n",
       "0        Lead  Remote                    Dryden Mutual Insurance Company   \n",
       "1      Senior     NaN                                   Esphera Concepts   \n",
       "2      Senior  Hybrid       Volkswagen Group of America - Chattanooga...   \n",
       "3         NaN  Remote                                 The New York Times   \n",
       "4         NaN     NaN  Metropolitan Government of Nashville & Davidso...   \n",
       "...       ...     ...                                                ...   \n",
       "22161     NaN  Remote                                   The Warren Group   \n",
       "22162  Senior     NaN                      Grocery Outlet Bargain Market   \n",
       "22163     NaN     NaN                              Avis Technologies LLC   \n",
       "22164     NaN  Hybrid                             University of Colorado   \n",
       "22165  Senior  Remote                                    The Cigna Group   \n",
       "\n",
       "                                Location        City State Frecuency_Salary  \\\n",
       "0                       Dryden, NY 13053      Dryden    NY             year   \n",
       "1              Washington, DC+1 location  Washington    DC             year   \n",
       "2                            Belmont, CA     Belmont    CA             year   \n",
       "3                                 Remote         NaN   NaN             year   \n",
       "4                          Nashville, TN   Nashville    TN             year   \n",
       "...                                  ...         ...   ...              ...   \n",
       "22161                             Remote         NaN   NaN             year   \n",
       "22162               Emeryville, CA 94608  Emeryville    CA             year   \n",
       "22163  Atlanta, GA 30334 (Downtown area)     Atlanta    GA             hour   \n",
       "22164             Aurora, CO+1 ubicación      Aurora    CO             year   \n",
       "22165               Remote+4 ubicaciones         NaN   NaN             year   \n",
       "\n",
       "       ... ABAP Russian Chinese Streamlit Rust  Navision  Polars Kaggle  \\\n",
       "0      ...  0.0     0.0     0.0       0.0  0.0       0.0     0.0    0.0   \n",
       "1      ...  0.0     0.0     0.0       0.0  0.0       0.0     0.0    0.0   \n",
       "2      ...  0.0     0.0     0.0       0.0  0.0       0.0     0.0    0.0   \n",
       "3      ...  0.0     0.0     0.0       0.0  0.0       0.0     0.0    0.0   \n",
       "4      ...  0.0     0.0     0.0       0.0  0.0       0.0     0.0    0.0   \n",
       "...    ...  ...     ...     ...       ...  ...       ...     ...    ...   \n",
       "22161  ...  0.0     0.0     0.0       0.0  0.0       0.0     0.0    0.0   \n",
       "22162  ...  0.0     0.0     0.0       0.0  0.0       0.0     0.0    0.0   \n",
       "22163  ...  0.0     0.0     0.0       0.0  0.0       0.0     0.0    0.0   \n",
       "22164  ...  0.0     0.0     0.0       0.0  0.0       0.0     0.0    0.0   \n",
       "22165  ...  0.0     0.0     0.0       0.0  0.0       0.0     0.0    0.0   \n",
       "\n",
       "       Snaplogic Hindi  \n",
       "0            0.0   0.0  \n",
       "1            0.0   0.0  \n",
       "2            0.0   0.0  \n",
       "3            0.0   0.0  \n",
       "4            0.0   0.0  \n",
       "...          ...   ...  \n",
       "22161        0.0   0.0  \n",
       "22162        0.0   0.0  \n",
       "22163        0.0   0.0  \n",
       "22164        0.0   0.0  \n",
       "22165        0.0   0.0  \n",
       "\n",
       "[22166 rows x 120 columns]>"
      ]
     },
     "execution_count": 1935,
     "metadata": {},
     "output_type": "execute_result"
    }
   ],
   "source": [
    "test.describe"
   ]
  },
  {
   "cell_type": "markdown",
   "metadata": {},
   "source": [
    "\n",
    "# Check for missing values in categorical columns\n",
    "categorical_missing = X[categorical_cols].isnull().sum()\n",
    "\n",
    "# Filter to show only columns with missing values\n",
    "categorical_missing = categorical_missing[categorical_missing > 0]\n",
    "\n",
    "# Print the results\n",
    "print(\"Categorical Columns with Missing Values:\")\n",
    "print(categorical_missing)"
   ]
  },
  {
   "cell_type": "markdown",
   "metadata": {},
   "source": [
    "# Replace missing values in categorical columns with \"unknown\"\n",
    "for col in categorical_cols:\n",
    "    X[col] = X[col].fillna('unknown')"
   ]
  },
  {
   "cell_type": "markdown",
   "metadata": {},
   "source": [
    "# Verify the replacements\n",
    "print(\"Missing Values After Replacement:\")\n",
    "print(X[categorical_cols].isnull().sum())"
   ]
  },
  {
   "cell_type": "markdown",
   "metadata": {},
   "source": [
    "# 5. Encoding features separately"
   ]
  },
  {
   "cell_type": "markdown",
   "metadata": {},
   "source": [
    "# Check unique elements in each categorical column\n",
    "categorical_cols = X.select_dtypes(include=['object']).columns\n",
    "\n",
    "# Count the number of unique values in each categorical column\n",
    "unique_counts = {col: X[col].nunique() for col in categorical_cols}\n",
    "\n",
    "# Convert to a DataFrame for better visualization\n",
    "unique_counts_df = pd.DataFrame(list(unique_counts.items()), columns=['Feature', 'Unique Categories'])\n",
    "unique_counts_df = unique_counts_df.sort_values(by='Unique Categories', ascending=False)\n",
    "\n",
    "# Display the result\n",
    "print(\"Unique Categories in Categorical Columns:\")\n",
    "print(unique_counts_df)"
   ]
  },
  {
   "cell_type": "markdown",
   "metadata": {},
   "source": [
    "# Define thresholds for encoding methods\n",
    "one_hot_threshold = 139  # Adjust based on your use case\n",
    "# Split the features\n",
    "low_cardinality_cols = unique_counts_df[unique_counts_df['Unique Categories'] <= one_hot_threshold]['Feature'].tolist()\n",
    "high_cardinality_cols = unique_counts_df[unique_counts_df['Unique Categories'] > one_hot_threshold]['Feature'].tolist()\n",
    "\n",
    "# Display the splits\n",
    "print(\"\\nLow-Cardinality Features (One-Hot Encoding):\")\n",
    "print(low_cardinality_cols)\n",
    "\n",
    "print(\"\\nHigh-Cardinality Features (Label/Target Encoding):\")\n",
    "print(high_cardinality_cols)"
   ]
  },
  {
   "cell_type": "markdown",
   "metadata": {},
   "source": [
    "from sklearn.preprocessing import OneHotEncoder\n",
    "from sklearn.compose import ColumnTransformer\n",
    "\n",
    "# Apply One-Hot Encoding to low-cardinality columns\n",
    "encoder = OneHotEncoder(handle_unknown='ignore')\n",
    "preprocessor = ColumnTransformer(\n",
    "    transformers=[\n",
    "        ('cat', encoder, low_cardinality_cols)\n",
    "    ], remainder='passthrough'\n",
    ")\n",
    "\n",
    "X_encoded = preprocessor.fit_transform(X)"
   ]
  },
  {
   "cell_type": "markdown",
   "metadata": {},
   "source": [
    "from sklearn.preprocessing import LabelEncoder\n",
    "\n",
    "for col in high_cardinality_cols:\n",
    "    le = LabelEncoder()\n",
    "    X[col] = le.fit_transform(X[col])"
   ]
  },
  {
   "cell_type": "markdown",
   "metadata": {},
   "source": [
    "for col in high_cardinality_cols:\n",
    "    freq_map = X[col].value_counts(normalize=True).to_dict()\n",
    "    X[col] = X[col].map(freq_map)"
   ]
  },
  {
   "cell_type": "markdown",
   "metadata": {},
   "source": [
    "# 4. Train-Test Split"
   ]
  },
  {
   "cell_type": "markdown",
   "metadata": {},
   "source": [
    "# 5. Train and Evaluate a Effective Model using PyCaret"
   ]
  },
  {
   "cell_type": "markdown",
   "metadata": {},
   "source": [
    "from pycaret.regression import *\n",
    "import pandas as pd"
   ]
  },
  {
   "cell_type": "markdown",
   "metadata": {},
   "source": [
    "# Initialize PyCaret\n",
    "regression_setup = setup(\n",
    "    data=train,\n",
    "    target='Mean_Salary',            # Target variable\n",
    "    train_size=0.8,                  # 80-20 train-test split within PyCaret\n",
    "    normalize=True,                  # Ensure features are scaled\n",
    "    max_encoding_ohe=139,             # Set threshold for one-hot encoding\n",
    "    session_id=42,                   # For reproducibility\n",
    ")"
   ]
  },
  {
   "cell_type": "markdown",
   "metadata": {},
   "source": [
    "# Compare Models\n",
    "best_model = compare_models(sort='MAPE')"
   ]
  },
  {
   "cell_type": "markdown",
   "metadata": {},
   "source": [
    "# Tune the Best Model\n",
    "tuned_model = tune_model(best_model, optimize='MAPE')"
   ]
  },
  {
   "cell_type": "markdown",
   "metadata": {},
   "source": [
    "# Finalize and Save the Model\n",
    "final_model = finalize_model(tuned_model)"
   ]
  },
  {
   "cell_type": "markdown",
   "metadata": {},
   "source": [
    "# Display the performance of the tuned model\n",
    "print(\"\\nTuned Model Performance:\")\n",
    "evaluate_model(final_model)"
   ]
  },
  {
   "cell_type": "markdown",
   "metadata": {},
   "source": [
    "import joblib\n",
    "\n",
    "export_model = final_model\n",
    "\n",
    "# Save the CatBoost model\n",
    "joblib.dump(export_model, 'exported_models.pkl')"
   ]
  },
  {
   "cell_type": "markdown",
   "metadata": {},
   "source": [
    "test.to_csv(\"processed_test_data.csv\", index=False)"
   ]
  },
  {
   "cell_type": "markdown",
   "metadata": {},
   "source": [
    "# 1. Run model on test data"
   ]
  },
  {
   "cell_type": "code",
   "execution_count": 1936,
   "metadata": {},
   "outputs": [],
   "source": [
    "# Keep the 'ID' column for submission\n",
    "ids = test['ID']"
   ]
  },
  {
   "cell_type": "code",
   "execution_count": 1937,
   "metadata": {},
   "outputs": [],
   "source": [
    "import joblib \n",
    "\n",
    "loaded_model = joblib.load('exported_models.pkl')"
   ]
  },
  {
   "cell_type": "code",
   "execution_count": 1938,
   "metadata": {},
   "outputs": [
    {
     "data": {
      "text/plain": [
       "(33248, 121)"
      ]
     },
     "execution_count": 1938,
     "metadata": {},
     "output_type": "execute_result"
    }
   ],
   "source": [
    "train.shape"
   ]
  },
  {
   "cell_type": "code",
   "execution_count": 1939,
   "metadata": {},
   "outputs": [
    {
     "data": {
      "text/plain": [
       "(22166, 120)"
      ]
     },
     "execution_count": 1939,
     "metadata": {},
     "output_type": "execute_result"
    }
   ],
   "source": [
    "test.shape"
   ]
  },
  {
   "cell_type": "code",
   "execution_count": 1940,
   "metadata": {},
   "outputs": [
    {
     "name": "stdout",
     "output_type": "stream",
     "text": [
      "22166\n"
     ]
    }
   ],
   "source": [
    "print(len(test))"
   ]
  },
  {
   "cell_type": "code",
   "execution_count": 1941,
   "metadata": {},
   "outputs": [],
   "source": [
    "# Drop target column if present in test\n",
    "if 'Mean_Salary' in test.columns:\n",
    "    test = test.drop(columns=['Mean_Salary'])\n"
   ]
  },
  {
   "cell_type": "code",
   "execution_count": 1942,
   "metadata": {},
   "outputs": [],
   "source": [
    "# Generate predictions\n",
    "test_predictions = loaded_model.predict(test)\n"
   ]
  },
  {
   "cell_type": "code",
   "execution_count": 1943,
   "metadata": {},
   "outputs": [],
   "source": [
    "# Create the submission DataFrame\n",
    "submission = pd.DataFrame({\n",
    "    'ID': ids,\n",
    "    'Mean_Salary': test_predictions\n",
    "})"
   ]
  },
  {
   "cell_type": "code",
   "execution_count": 1944,
   "metadata": {},
   "outputs": [],
   "source": [
    "submission.to_csv(\"submission.csv\", index=False)"
   ]
  }
 ],
 "metadata": {
  "kernelspec": {
   "display_name": "rai7005",
   "language": "python",
   "name": "python3"
  },
  "language_info": {
   "codemirror_mode": {
    "name": "ipython",
    "version": 3
   },
   "file_extension": ".py",
   "mimetype": "text/x-python",
   "name": "python",
   "nbconvert_exporter": "python",
   "pygments_lexer": "ipython3",
   "version": "3.11.9"
  }
 },
 "nbformat": 4,
 "nbformat_minor": 2
}
